{
 "cells": [
  {
   "cell_type": "markdown",
   "metadata": {},
   "source": [
    "## Question 1.d)\n",
    "Download the housing price data set of Windsor City of Canada ( provided on my website link). Design a housing price predictor taking only floor area (plot size), number of bedrooms, and number of bathrooms into considerations. Out of total 546 data , you may take 70% for designing the predictor and 30% for validating the design. The predictor design should be done using the following methods:\n",
    "\n",
    "<b>d) Implement the LWR algorithm on the Housing Price data set with different tau values. Find out the tau value which will provide the best fit predictor and hence compare its results with a) , b) and c) above.<b>\t"
   ]
  },
  {
   "cell_type": "code",
   "execution_count": 10,
   "metadata": {},
   "outputs": [],
   "source": [
    "#Loading numpy\n",
    "import numpy as np\n",
    "import matplotlib.pyplot as plt\n",
    "import random"
   ]
  },
  {
   "cell_type": "code",
   "execution_count": 11,
   "metadata": {},
   "outputs": [],
   "source": [
    "#Reading Data from Housing Price data set.csv\n",
    "read_data = np.genfromtxt(\"Housing Price data set.csv\",delimiter=',')\n",
    "data = np.array(read_data[1:,1:5],dtype=np.int)"
   ]
  },
  {
   "cell_type": "markdown",
   "metadata": {},
   "source": [
    "**Splitting data into x and y** \\\n",
    " y = Price as label \\\n",
    " x = (floor Area, number of bedrooms, number of bathrooms) i.e x1,x2,x3"
   ]
  },
  {
   "cell_type": "code",
   "execution_count": 12,
   "metadata": {},
   "outputs": [
    {
     "name": "stdout",
     "output_type": "stream",
     "text": [
      "Prices(top 5) :\n",
      " [[ 70000]\n",
      " [103000]\n",
      " [ 75000]\n",
      " [ 32000]\n",
      " [ 51900]]\n",
      "\n",
      "x1,x2,x3(top 5) :\n",
      " [[12900     3     1]\n",
      " [ 6000     3     2]\n",
      " [ 4260     4     1]\n",
      " [ 1950     3     1]\n",
      " [ 3520     3     1]]\n"
     ]
    }
   ],
   "source": [
    "#preprocessing and splitting\n",
    "np.random.shuffle(data)     # shuffling , splitting of train and validation to unbaised\n",
    "y = data[:,0:1]\n",
    "x = data[:,1:]\n",
    "print(\"Prices(top 5) :\\n\",y[:5])\n",
    "print(\"\\nx1,x2,x3(top 5) :\\n\",x[:5])\n",
    "#preprocessing\n",
    "m,n = x.shape\n",
    "ones = np.ones((m,n+1),dtype=np.int)\n",
    "ones[:,1:] = x         #broadcasting\n",
    "x_data = ones\n",
    "\n",
    "#splitting data into training(70%) and validation(30%) \n",
    "split = int(m*0.7)\n",
    "x_train = x_data[:split]\n",
    "y_train = y[:split]\n",
    "x_valid = x_data[split:]\n",
    "y_valid = y[split:]"
   ]
  },
  {
   "cell_type": "markdown",
   "metadata": {},
   "source": [
    "### Feature Scaling (using Standered Normalization)\n",
    "\\begin{equation}\n",
    "    x' = \\frac{x-\\mu}{\\sigma}\n",
    "\\end{equation}"
   ]
  },
  {
   "cell_type": "code",
   "execution_count": 92,
   "metadata": {},
   "outputs": [],
   "source": [
    "m = np.mean(x_train,axis=0)\n",
    "s = np.std(x_train,axis=0)+0.00001\n",
    "xscale_train = (x_train-m)/s\n",
    "m = np.mean(x_valid,axis=0)\n",
    "s = np.std(x_valid,axis=0)+0.00001\n",
    "xscale_valid = (x_valid-m)/s"
   ]
  },
  {
   "cell_type": "code",
   "execution_count": 93,
   "metadata": {},
   "outputs": [],
   "source": [
    "#function for hypothesis, Loss/error and dJ/dw\n",
    "def hypothesis(x,w):\n",
    "    return np.dot(x,w)"
   ]
  },
  {
   "cell_type": "markdown",
   "metadata": {},
   "source": [
    "## Formula used for weight function\n",
    "\n",
    "\\begin{equation}\n",
    "    w^{(i)} = exp(-\\frac{(x^i-x)^2}{2\\tau^2})\n",
    "\\end{equation}\n"
   ]
  },
  {
   "cell_type": "code",
   "execution_count": 141,
   "metadata": {},
   "outputs": [],
   "source": [
    "def weightFunc(x0, x_train, tau):\n",
    "    m,n = np.shape(x_train)\n",
    "    weights = np.eye((m))      # identity matrix of mxm\n",
    "    \n",
    "    for j in range(m):\n",
    "        diff = (x_train[j]-x0)\n",
    "        diff_sqr = np.dot(diff,diff.T)\n",
    "        w0 = np.exp(-diff_sqr/ (2.0 * tau**2))  # calculating wi\n",
    "        weights[j,j] = w0                       # storing result at digonal elements\n",
    "\n",
    "    return weights\n",
    "\n",
    "\n"
   ]
  },
  {
   "cell_type": "markdown",
   "metadata": {},
   "source": [
    "## Formula to calculate local weight\n",
    "\\begin{equation}\n",
    "    w_0 = (X^T W X)^{-1} (X^T W Y)\n",
    "\\end{equation}"
   ]
  },
  {
   "cell_type": "code",
   "execution_count": 95,
   "metadata": {},
   "outputs": [],
   "source": [
    "def localWeight(x0, x_train, y_train, tau=0.2):\n",
    "    wt = weightFunc(x0, x_train, tau)\n",
    "    X = x_train\n",
    "    c = np.matmul(X.T,np.matmul(wt,X))+0.00001\n",
    "    a = np.linalg.inv(c) \n",
    "    b = np.matmul(X.T,np.matmul(wt,y_train))\n",
    "    W = np.matmul(a,b)                       # using above formula to compute weight\n",
    "    return W,wt"
   ]
  },
  {
   "cell_type": "markdown",
   "metadata": {},
   "source": [
    "## Locally weighted Regression method\n",
    "\\begin{equation}\n",
    "    prediction = W^T.X\n",
    "\\end{equation}\n",
    "\n",
    "\n",
    "\\begin{equation}\n",
    "    minimize [J(W) = \\sum _{i=1}^{i=m} w^{(i)} (h_w(x^{(i)}) - y^{(i)})^2]\n",
    "\\end{equation}"
   ]
  },
  {
   "cell_type": "code",
   "execution_count": 120,
   "metadata": {},
   "outputs": [],
   "source": [
    "def LWR(x_valid,y_valid,x_train, y_train, tau=0.2):\n",
    "    p,q = np.shape(x_valid)\n",
    "    ypred = np.zeros(p)\n",
    "    loss = 0\n",
    "    for i in range(p):                  # computing weight , and predicting for each sample\n",
    "        x0 = x_valid[i]\n",
    "        w0,wi = localWeight(x0, x_train, y_train,tau)\n",
    "        ypred[i] = hypothesis(x0,w0) \n",
    "        loss += wi[i,i]*(ypred[i]-y_valid[i])**2\n",
    "    return ypred,loss\n"
   ]
  },
  {
   "cell_type": "markdown",
   "metadata": {},
   "source": [
    "### Predict (Testing)"
   ]
  },
  {
   "cell_type": "code",
   "execution_count": 132,
   "metadata": {},
   "outputs": [
    {
     "name": "stdout",
     "output_type": "stream",
     "text": [
      "Prediction(Price) : [72916. 61811. 97770. 61672. 71316.]\n",
      "Actual(Price) : [ 78000  35500  80000 101000  34000]\n",
      "Error in Prediction : [3.88490073e-25]\n"
     ]
    }
   ],
   "source": [
    "prediction,loss = LWR(xscale_valid[:5],y_valid[:5],xscale_train, y_train)\n",
    "print(\"Prediction(Price) :\",np.round(prediction.flatten()))\n",
    "print(\"Actual(Price) :\",y_valid[:5].flatten())\n",
    "print(\"Error in Prediction :\",loss)"
   ]
  },
  {
   "cell_type": "markdown",
   "metadata": {},
   "source": [
    "### Plotting (actual vs predicted)"
   ]
  },
  {
   "cell_type": "code",
   "execution_count": 144,
   "metadata": {},
   "outputs": [
    {
     "name": "stdout",
     "output_type": "stream",
     "text": [
      "(40,)\n"
     ]
    },
    {
     "data": {
      "image/png": "[encoded data removed]",
      "text/plain": [
       "<Figure size 432x288 with 1 Axes>"
      ]
     },
     "metadata": {
      "needs_background": "light"
     },
     "output_type": "display_data"
    }
   ],
   "source": [
    "num=40\n",
    "prediction,loss = LWR(xscale_valid[:num],y_valid[:num],xscale_train, y_train)\n",
    "print(prediction.shape)\n",
    "f=plt.figure()\n",
    "plt.ylabel(\"Loss\")\n",
    "plt.plot(y_train[:num])\n",
    "plt.plot(prediction)\n",
    "plt.show()\n",
    "\n",
    "#blue = Actual\n",
    "#orange = Predicted"
   ]
  },
  {
   "cell_type": "markdown",
   "metadata": {},
   "source": [
    "# Testing For different Values of $\\tau$"
   ]
  },
  {
   "cell_type": "code",
   "execution_count": 126,
   "metadata": {},
   "outputs": [
    {
     "name": "stdout",
     "output_type": "stream",
     "text": [
      "Error in Prediction : 3182230784.2775826\n",
      "Error in Prediction : 4588333252.1982\n",
      "Error in Prediction : 5721787047.475454\n",
      "Error in Prediction : 6568806824.964637\n",
      "Error in Prediction : 10745445586.352104\n"
     ]
    }
   ],
   "source": [
    "prediction,loss = LWR(xscale_valid,y_valid,xscale_train, y_train,tau=0.2)\n",
    "print(\"Error in Prediction :\",loss[0])\n",
    "prediction,loss = LWR(xscale_valid,y_valid,xscale_train, y_train,tau=0.4)\n",
    "print(\"Error in Prediction :\",loss[0])\n",
    "prediction,loss = LWR(xscale_valid,y_valid,xscale_train, y_train,tau=0.6)\n",
    "print(\"Error in Prediction :\",loss[0])\n",
    "prediction,loss = LWR(xscale_valid,y_valid,xscale_train, y_train,tau=0.8)\n",
    "print(\"Error in Prediction :\",loss[0])\n",
    "prediction,loss = LWR(xscale_valid,y_valid,xscale_train, y_train,tau=1)\n",
    "print(\"Error in Prediction :\",loss[0])"
   ]
  },
  {
   "cell_type": "markdown",
   "metadata": {},
   "source": [
    "### choice for $\\tau$ = 0.2 (minimum loss)"
   ]
  },
  {
   "cell_type": "markdown",
   "metadata": {},
   "source": []
  },
  {
   "cell_type": "markdown",
   "metadata": {},
   "source": [
    "## Comparision With Question a,b,c"
   ]
  },
  {
   "cell_type": "markdown",
   "metadata": {},
   "source": [
    "<ul>\n",
    "    <li>Faster(execution time) than gradient descents used in b,c</li>\n",
    "    <li>Large flactuation between prediction and actual in LWR, while it is less in a,b,c</li>\n",
    "    \n",
    "</ul>"
   ]
  },
  {
   "cell_type": "markdown",
   "metadata": {},
   "source": [
    "## Analysis and Observation\n",
    "<ul>\n",
    "    <li>In this dataset ,while increasing $\\tau$ loss also increases</li>\n",
    "    <li>To avoid singluar matrix inverse , add 0.00001 while calculating localWeight</li>\n",
    "    <li>Scale data to avoid overflow</li>\n",
    "    <li>at $\\tau$=0.2, loss is minimum (among $\\tau$ =0.2, 0,4, 0.6, 0.8, 1.0</li>\n",
    "</ul>"
   ]
  },
  {
   "cell_type": "code",
   "execution_count": null,
   "metadata": {},
   "outputs": [],
   "source": []
  }
 ],
 "metadata": {
  "kernelspec": {
   "display_name": "Python 3",
   "language": "python",
   "name": "python3"
  },
  "language_info": {
   "codemirror_mode": {
    "name": "ipython",
    "version": 3
   },
   "file_extension": ".py",
   "mimetype": "text/x-python",
   "name": "python",
   "nbconvert_exporter": "python",
   "pygments_lexer": "ipython3",
   "version": "3.8.6"
  }
 },
 "nbformat": 4,
 "nbformat_minor": 4
}

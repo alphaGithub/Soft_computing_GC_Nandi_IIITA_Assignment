{
 "cells": [
  {
   "cell_type": "markdown",
   "metadata": {},
   "source": [
    "# Support Vector Machine"
   ]
  },
  {
   "cell_type": "markdown",
   "metadata": {},
   "source": [
    "<img src=\"image.png\">"
   ]
  },
  {
   "cell_type": "code",
   "execution_count": 1,
   "metadata": {},
   "outputs": [],
   "source": [
    "#loading Required Packages\n",
    "import numpy as np\n",
    "import matplotlib.pyplot as plt\n",
    "import random as rnd"
   ]
  },
  {
   "cell_type": "markdown",
   "metadata": {},
   "source": [
    "## Data-Preprocessing :"
   ]
  },
  {
   "cell_type": "markdown",
   "metadata": {},
   "source": [
    "1. column #1 and column #4 feature i.e x_train\n",
    "2. column #14 i.e y_train , {-1,1}\n",
    "3. feature scaling method used is standered normalization.\n",
    "4. splitting training and testing dataset"
   ]
  },
  {
   "cell_type": "code",
   "execution_count": 3,
   "metadata": {},
   "outputs": [
    {
     "name": "stdout",
     "output_type": "stream",
     "text": [
      "Training -> 70% , Testing 30%\n",
      "Training data-set shape-> (212, 13) (212, 1)\n",
      "Testing  data-set shape-> (91, 13) (212, 1)\n"
     ]
    }
   ],
   "source": [
    "# reading and preprocessing dataset\n",
    "read_data = np.loadtxt(\"HeartDisease.csv\",delimiter=',',skiprows=2)\n",
    "m,n = read_data.shape\n",
    "#np.random.shuffle(read_data)                 #shuffling dataset\n",
    "x_data = np.ones((m,n-1))                           \n",
    "x_data[:,0:n-1] = read_data[:,0:n-1]            #column1\n",
    "#x_data[:,1:2] = read_data[:,3:4]            #column4\n",
    "y_data = read_data[:,-1:]                   \n",
    "y_data[y_data==0] = -1                      # y = {-1,1} column14\n",
    "\n",
    "#x_data = (x_data-np.mean(x_data,axis=0))/np.std(x_data,axis=0)        #feature scaling(standered)\n",
    "\n",
    "              \n",
    "k = int(0.7*m)                              #splitting dataset\n",
    "x_train = x_data[:k,:]\n",
    "y_train = y_data[:k,:]\n",
    "x_test  = x_data[k:,:]\n",
    "y_test  = y_data[k:,:]\n",
    "\n",
    "print(\"Training -> 70% , Testing 30%\")\n",
    "print(\"Training data-set shape->\",x_train.shape, y_train.shape)\n",
    "print(\"Testing  data-set shape->\",x_test.shape, y_train.shape)"
   ]
  },
  {
   "cell_type": "markdown",
   "metadata": {},
   "source": [
    "## Plotting our training Data-set"
   ]
  },
  {
   "cell_type": "code",
   "execution_count": 4,
   "metadata": {},
   "outputs": [
    {
     "name": "stdout",
     "output_type": "stream",
     "text": [
      "Blue -> +1\n",
      "Red  -> -1\n"
     ]
    },
    {
     "data": {
      "image/png": "[encoded data removed]",
      "text/plain": [
       "<Figure size 432x288 with 1 Axes>"
      ]
     },
     "metadata": {
      "needs_background": "light"
     },
     "output_type": "display_data"
    }
   ],
   "source": [
    "pos = []\n",
    "neg = []\n",
    "for i in range(x_train.shape[0]):\n",
    "    if y_data[i]==1:\n",
    "        pos.append(x_train[i])\n",
    "    else:\n",
    "        neg.append(x_train[i])\n",
    "pos = np.array(pos)\n",
    "neg = np.array(neg)\n",
    "plt.scatter(pos[:,0],pos[:,1],color='blue')\n",
    "plt.scatter(neg[:,0],neg[:,1],color='red')\n",
    "print(\"Blue -> +1\")\n",
    "print(\"Red  -> -1\")"
   ]
  },
  {
   "cell_type": "markdown",
   "metadata": {},
   "source": [
    "## RBF kernel :\n",
    "\\begin{equation}\n",
    "K(x,z) = exp(-\\frac{|| x - z ||^2}{2 \\sigma^2})\n",
    "\\end{equation}"
   ]
  },
  {
   "cell_type": "code",
   "execution_count": 6,
   "metadata": {},
   "outputs": [],
   "source": [
    "#defining kernel\n",
    "def rbf_kernel(x1, x2, sigma=1):\n",
    "    return np.exp(- (np.linalg.norm(x1 - x2, 2)) ** 2 / (2 * sigma ** 2))"
   ]
  },
  {
   "cell_type": "markdown",
   "metadata": {},
   "source": [
    "### Defining basic functions required to for SMO Algorithm :"
   ]
  },
  {
   "cell_type": "code",
   "execution_count": 7,
   "metadata": {},
   "outputs": [],
   "source": [
    "#function to predict when we have x,w,b\n",
    "def predict(x,w,b):\n",
    "    return h(x,w,b)\n",
    "\n",
    "#function to calculate bias\n",
    "def calc_b(x, y, w):\n",
    "    b_tmp = y - np.dot(w.T, x.T)\n",
    "    return np.mean(b_tmp)\n",
    "\n",
    "#function to calculate weight\n",
    "def calc_w(alpha, y, x):\n",
    "    return np.dot(x.T, np.multiply(alpha,y))\n",
    "    \n",
    "def h(x, w, b):\n",
    "    return np.sign(np.dot(w.T, x.T) + b).astype(int)\n",
    "    \n",
    "def E(x_k, y_k, w, b):\n",
    "    return h(x_k, w, b) - y_k\n",
    "\n",
    "#performing clipping operation\n",
    "def compute_L_H(C, alpha_prime_j, alpha_prime_i, y_j, y_i):\n",
    "    if(y_i != y_j):\n",
    "        return (max(0,alpha_prime_j-alpha_prime_i), min(C, C-alpha_prime_i+alpha_prime_j))\n",
    "    else:\n",
    "        return (max(0, alpha_prime_i + alpha_prime_j - C), min(C, alpha_prime_i + alpha_prime_j))\n",
    "        \n",
    "\n",
    "#generate random Int number between a to b , but not z\n",
    "def getRndInt(a,b,z):\n",
    "    i = z\n",
    "    cnt=0\n",
    "    while i == z and cnt<1000:\n",
    "        i = rnd.randint(a,b)\n",
    "        cnt=cnt+1\n",
    "    return i\n",
    "       \n",
    "\n"
   ]
  },
  {
   "cell_type": "markdown",
   "metadata": {},
   "source": [
    "### function to compute accuracy for using test data:"
   ]
  },
  {
   "cell_type": "code",
   "execution_count": 8,
   "metadata": {},
   "outputs": [],
   "source": [
    "def cal_accuray(x_test,y_test,w,b):\n",
    "    y_predicted = [predict(x,w,b) for x in x_test]\n",
    "    count=0\n",
    "    for i in range(len(y_predicted)):\n",
    "        if y_predicted[i]==y_test[i]:\n",
    "            count += 1\n",
    "    return count/len(y_predicted)\n"
   ]
  },
  {
   "cell_type": "markdown",
   "metadata": {},
   "source": [
    "## SMO algorithm :"
   ]
  },
  {
   "cell_type": "code",
   "execution_count": 9,
   "metadata": {},
   "outputs": [],
   "source": [
    "def trainSMO(x_train, y_train,kernel,C=1.0,epsilon=0.001,max_iter=100):\n",
    "    n, d = x_train.shape[0], x_train.shape[1]\n",
    "    alpha = np.zeros((n))\n",
    "    kernel = rbf_kernel\n",
    "    count = 0\n",
    "    while True:\n",
    "        count += 1\n",
    "        lst_alpha = np.copy(alpha)\n",
    "            \n",
    "        for j in range(0, n):\n",
    "            #two alpha for are selected randomly for SMO Algorithm for that j for is selected and i is selected randomly\n",
    "            i = getRndInt(0, n-1, j)\n",
    "            x_i, x_j, y_i, y_j = x_train[i,:], x_train[j,:], y_train[i], y_train[j] \n",
    "            k_ij = kernel(x_i, x_i) + kernel(x_j, x_j) - 2 * kernel(x_i, x_j)\n",
    "            if k_ij == 0:\n",
    "                continue\n",
    "                    \n",
    "            #two alpha's are selected let say aj^, ai^ and L,H computed to apply clipping of alpha between [L,H]        \n",
    "            alpha_prime_j, alpha_prime_i = alpha[j], alpha[i]        #\n",
    "            (L, H) = compute_L_H(C, alpha_prime_j, alpha_prime_i, y_j, y_i)\n",
    "\n",
    "            # calculate weight,bias \n",
    "            w = calc_w(alpha, y_train, x_train)\n",
    "            b = calc_b(x_train, y_train, w)\n",
    "\n",
    "            # Compute E_i, E_j\n",
    "            E_i = E(x_i, y_i, w, b)\n",
    "            E_j = E(x_j, y_j, w, b)\n",
    "\n",
    "            # Updating one of the alpha values\n",
    "            alpha[j] = alpha_prime_j + float(y_j * (E_i - E_j))/k_ij\n",
    "            alpha[j] = max(alpha[j], L)\n",
    "            alpha[j] = min(alpha[j], H)\n",
    "            \n",
    "            #computing other alpha using pervios alpha computed above\n",
    "            alpha[i] = alpha_prime_i + y_i*y_j * (alpha_prime_j - alpha[j])\n",
    "\n",
    "        diff = np.linalg.norm(alpha - lst_alpha)\n",
    "        if diff < epsilon:\n",
    "            break\n",
    "        \n",
    "        if count >= max_iter:\n",
    "            print(\"Iteration Exceeds than\",max_iter)\n",
    "            return\n",
    "    \n",
    "    w = calc_w(alpha, y_train, x_train)\n",
    "    b = calc_b(x_train, y_train, w)\n",
    "\n",
    "    return w,b"
   ]
  },
  {
   "cell_type": "markdown",
   "metadata": {},
   "source": [
    "### Testing our Algorithm :"
   ]
  },
  {
   "cell_type": "code",
   "execution_count": 11,
   "metadata": {},
   "outputs": [
    {
     "name": "stdout",
     "output_type": "stream",
     "text": [
      "Accuracy -> 0.7032967032967034\n",
      "Actual     -> [-1.]\n",
      "Predicted -> -1\n"
     ]
    }
   ],
   "source": [
    "w,b=trainSMO(x_train, y_train.flatten(),rbf_kernel,C=1.0,epsilon=0.001,max_iter=100)\n",
    "print(\"Accuracy ->\",cal_accuray(x_test,y_test,w,b))\n",
    "\n",
    "print(\"Actual     ->\",y_test[0])\n",
    "print(\"Predicted ->\",predict(x_test[0],w,b))\n"
   ]
  },
  {
   "cell_type": "markdown",
   "metadata": {},
   "source": [
    "## C vs Accuracy"
   ]
  },
  {
   "cell_type": "code",
   "execution_count": 12,
   "metadata": {},
   "outputs": [
    {
     "data": {
      "text/plain": [
       "[<matplotlib.lines.Line2D at 0x7f28a18de640>]"
      ]
     },
     "execution_count": 12,
     "metadata": {},
     "output_type": "execute_result"
    },
    {
     "data": {
      "image/png": "[encoded data removed]",
      "text/plain": [
       "<Figure size 432x288 with 1 Axes>"
      ]
     },
     "metadata": {
      "needs_background": "light"
     },
     "output_type": "display_data"
    }
   ],
   "source": [
    "c = np.linspace(0,1,10)\n",
    "acc = []\n",
    "for k in c:\n",
    "    w,b=trainSMO(x_train, y_train.flatten(),rbf_kernel,C=k,epsilon=0.001,max_iter=100)\n",
    "    acc.append(cal_accuray(x_test,y_test,w,b))\n",
    "\n",
    "plt.plot(c,acc)"
   ]
  },
  {
   "cell_type": "markdown",
   "metadata": {},
   "source": [
    "## Epsilon vs Accuracy :"
   ]
  },
  {
   "cell_type": "code",
   "execution_count": 13,
   "metadata": {},
   "outputs": [
    {
     "data": {
      "text/plain": [
       "[<matplotlib.lines.Line2D at 0x7f28a18b2a90>]"
      ]
     },
     "execution_count": 13,
     "metadata": {},
     "output_type": "execute_result"
    },
    {
     "data": {
      "image/png": "[encoded data removed]",
      "text/plain": [
       "<Figure size 432x288 with 1 Axes>"
      ]
     },
     "metadata": {
      "needs_background": "light"
     },
     "output_type": "display_data"
    }
   ],
   "source": [
    "epsilon = [0.1,0.01,0.001,0.0001,0.00001]\n",
    "acc = []\n",
    "for k in epsilon:\n",
    "    w,b=trainSMO(x_train, y_train.flatten(),rbf_kernel,C=1.0,epsilon=k,max_iter=100)\n",
    "    acc.append(cal_accuray(x_test,y_test,w,b))\n",
    "plt.plot(epsilon,acc)"
   ]
  },
  {
   "cell_type": "markdown",
   "metadata": {},
   "source": [
    "## Iteration vs Accuracy :"
   ]
  },
  {
   "cell_type": "code",
   "execution_count": 14,
   "metadata": {},
   "outputs": [
    {
     "data": {
      "text/plain": [
       "[<matplotlib.lines.Line2D at 0x7f28a1889a30>]"
      ]
     },
     "execution_count": 14,
     "metadata": {},
     "output_type": "execute_result"
    },
    {
     "data": {
      "image/png": "[encoded data removed]",
      "text/plain": [
       "<Figure size 432x288 with 1 Axes>"
      ]
     },
     "metadata": {
      "needs_background": "light"
     },
     "output_type": "display_data"
    }
   ],
   "source": [
    "iterations = [50,100,200,500]\n",
    "acc = []\n",
    "for it in iterations:\n",
    "    w,b=trainSMO(x_train, y_train.flatten(),rbf_kernel,C=1.0,epsilon=0.001,max_iter=it)\n",
    "    acc.append(cal_accuray(x_test,y_test,w,b))\n",
    "\n",
    "plt.plot(iterations,acc)"
   ]
  },
  {
   "cell_type": "markdown",
   "metadata": {},
   "source": [
    "## Results :\n",
    "<ul>\n",
    "    <li>Accuracy for our data-set between 55%-60% </li>\n",
    "    \n",
    "</ul>"
   ]
  },
  {
   "cell_type": "code",
   "execution_count": null,
   "metadata": {},
   "outputs": [],
   "source": []
  },
  {
   "cell_type": "markdown",
   "metadata": {},
   "source": [
    "## Analysis:\n",
    "<ul>\n",
    "    <li>Best value for C=1.0 where algorithm have given maximum Accuracy</li>\n",
    "    <li>Best value for epsilon is 0.01 from the plot</li>\n",
    "    <li>Best value for max_iteration for our data-set is 200</li>\n",
    "</ul>\n",
    "\n",
    "Observations :\n",
    "<ul>\n",
    "    <li>Given Data-set in not classifiable from the plot</li>\n",
    "    <li>for this Data-set of data-set linear kernel is not suitable </li>\n",
    "    \n",
    "</ul>"
   ]
  },
  {
   "cell_type": "markdown",
   "metadata": {},
   "source": []
  }
 ],
 "metadata": {
  "kernelspec": {
   "display_name": "Python 3",
   "language": "python",
   "name": "python3"
  },
  "language_info": {
   "codemirror_mode": {
    "name": "ipython",
    "version": 3
   },
   "file_extension": ".py",
   "mimetype": "text/x-python",
   "name": "python",
   "nbconvert_exporter": "python",
   "pygments_lexer": "ipython3",
   "version": "3.8.6"
  }
 },
 "nbformat": 4,
 "nbformat_minor": 4
}

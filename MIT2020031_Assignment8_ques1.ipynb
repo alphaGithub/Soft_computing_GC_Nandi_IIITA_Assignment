{
 "cells": [
  {
   "cell_type": "markdown",
   "metadata": {},
   "source": [
    "## Question 1(BAM):\n",
    "A <b>Bidirectional Associative Memory(BAM)</b>  is required to store the following  M = 4 pairs of patterns: \n",
    "\n",
    "Set A:  \n",
    "    X1 =[1 1 1 1 1 1 ]$^T$, \\\n",
    "    X2 =[-1 -1 -1 -1 -1 -1 ]$^T$,  \n",
    "    X3 =[1 -1 -1 1 1 1 ]$^T$,  \n",
    "    X4 =[1 1 -1 -1 -1 -1 ]$^T$ \n",
    "    \n",
    "Set B:  \n",
    "    Y1=[1 1 1]$^T$, \\\n",
    "    Y2=[-1 -1 -1]$^T$, \\\n",
    "    Y3=[-1 1 1]$^T$, \\\n",
    "    Y4=[1 -1 1]$^T$ \\\n",
    "Using BAM algorithm, train a W matrix for BAM which can retrieve all the above mentioned 4 pairs. \\\n",
    "Hence test the level of weight corrections of the BAM with examples."
   ]
  },
  {
   "cell_type": "code",
   "execution_count": 1,
   "metadata": {},
   "outputs": [],
   "source": [
    "#loading required packages\n",
    "import numpy as np"
   ]
  },
  {
   "cell_type": "markdown",
   "metadata": {},
   "source": [
    "### Setting values of X,Y for input/output"
   ]
  },
  {
   "cell_type": "code",
   "execution_count": 22,
   "metadata": {},
   "outputs": [],
   "source": [
    "#setting x,y values\n",
    "x1=np.array([[1,1,1,1,1,1]]).T\n",
    "x2=np.array([[-1,-1,-1,-1,-1,-1]]).T\n",
    "x3=np.array([[1,-1,-1,1,1,1]]).T\n",
    "x4=np.array([[1,1,-1,-1,-1,-1]]).T\n",
    "X=[x1,x2,x3,x4]\n",
    "\n",
    "y1=np.array([[1,1,1]]).T\n",
    "y2=np.array([[-1,-1,-1]]).T\n",
    "y3=np.array([[-1,1,1]]).T\n",
    "y4=np.array([[1,-1,1]]).T\n",
    "Y=[y1,y2,y3,y4]"
   ]
  },
  {
   "cell_type": "markdown",
   "metadata": {},
   "source": [
    "### Weight Matrix :\n",
    "\\begin{equation}\n",
    "    W = \\sum_{m=1}^{m=M}X_mY_m^T\n",
    "\\end{equation}\n",
    "\n",
    "Using : \\\n",
    "1.The correlation matrix is the matrix product of the input vector X, and the transpose of the output vector Y$^T$.\\\n",
    "2.The BAM weight matrix is the sum of all correlation matrices. \\\n",
    "\n",
    "(M=number of pattern pair to be stored)."
   ]
  },
  {
   "cell_type": "code",
   "execution_count": 26,
   "metadata": {},
   "outputs": [],
   "source": [
    "def getWeightMatrix(X,Y,M):\n",
    "    W=0\n",
    "    for i in range(M):\n",
    "        W = W+(X[i]*Y[i].T)\n",
    "    return W"
   ]
  },
  {
   "cell_type": "markdown",
   "metadata": {},
   "source": [
    "### Functions to predict forward/backward"
   ]
  },
  {
   "cell_type": "code",
   "execution_count": 73,
   "metadata": {},
   "outputs": [],
   "source": [
    "def predict_forward(x,W):\n",
    "    Z = W.T.dot(x)\n",
    "    Z[Z>=0]=1\n",
    "    Z[Z<0]=-1               #sign function\n",
    "    return Z\n",
    "\n",
    "def predict_backward(y,W):\n",
    "    Z = W.dot(y)\n",
    "    Z[Z>=0]=1\n",
    "    Z[Z<0]=-1               #sign function\n",
    "    return Z"
   ]
  },
  {
   "cell_type": "markdown",
   "metadata": {},
   "source": [
    "### Training :"
   ]
  },
  {
   "cell_type": "code",
   "execution_count": 74,
   "metadata": {},
   "outputs": [],
   "source": [
    "#computing weight matrix\n",
    "w=getWeightMatrix(X,Y,4)"
   ]
  },
  {
   "cell_type": "markdown",
   "metadata": {},
   "source": [
    "## Testing :"
   ]
  },
  {
   "cell_type": "markdown",
   "metadata": {},
   "source": [
    "We have to check that the BAM recalls perfectly $Y_{m}$ for corresponding $X_{m}$ and recalls $X_{m}$ for corresponding $Y_{m}$"
   ]
  },
  {
   "cell_type": "markdown",
   "metadata": {},
   "source": [
    "### Forward Direction :"
   ]
  },
  {
   "cell_type": "code",
   "execution_count": 79,
   "metadata": {},
   "outputs": [
    {
     "name": "stdout",
     "output_type": "stream",
     "text": [
      "Predicted -> [[1 1 1]]        Actual -> [[1 1 1]]\n",
      "Predicted -> [[-1 -1 -1]]        Actual -> [[-1 -1 -1]]\n",
      "Predicted -> [[-1  1  1]]        Actual -> [[-1  1  1]]\n",
      "Predicted -> [[ 1 -1  1]]        Actual -> [[ 1 -1  1]]\n"
     ]
    }
   ],
   "source": [
    "print(\"Predicted ->\",predict_forward(x1,w).T ,\"       Actual ->\",y1.T)\n",
    "print(\"Predicted ->\",predict_forward(x2,w).T ,\"       Actual ->\",y2.T)\n",
    "print(\"Predicted ->\",predict_forward(x3,w).T ,\"       Actual ->\",y3.T)\n",
    "print(\"Predicted ->\",predict_forward(x4,w).T ,\"       Actual ->\",y4.T)"
   ]
  },
  {
   "cell_type": "markdown",
   "metadata": {},
   "source": [
    "### Backward Direction :"
   ]
  },
  {
   "cell_type": "code",
   "execution_count": 81,
   "metadata": {},
   "outputs": [
    {
     "name": "stdout",
     "output_type": "stream",
     "text": [
      "Predicted -> [[1 1 1 1 1 1]]        Actual -> [[1 1 1 1 1 1]]\n",
      "Predicted -> [[-1 -1 -1 -1 -1 -1]]        Actual -> [[-1 -1 -1 -1 -1 -1]]\n",
      "Predicted -> [[ 1 -1  1  1  1  1]]        Actual -> [[ 1 -1 -1  1  1  1]]\n",
      "Predicted -> [[ 1  1  1 -1 -1 -1]]        Actual -> [[ 1  1 -1 -1 -1 -1]]\n"
     ]
    }
   ],
   "source": [
    "print(\"Predicted ->\",predict_backward(y1,w).T ,\"       Actual ->\",x1.T)\n",
    "print(\"Predicted ->\",predict_backward(y2,w).T ,\"       Actual ->\",x2.T)\n",
    "print(\"Predicted ->\",predict_backward(y3,w).T ,\"       Actual ->\",x3.T)\n",
    "print(\"Predicted ->\",predict_backward(y4,w).T ,\"       Actual ->\",x4.T)"
   ]
  },
  {
   "cell_type": "code",
   "execution_count": null,
   "metadata": {},
   "outputs": [],
   "source": []
  },
  {
   "cell_type": "markdown",
   "metadata": {},
   "source": [
    "# Analysis :\n",
    "<ul>\n",
    "    <li>In forward direction BAM is able to recall Perfectly</li>\n",
    "    <li>In backward direction BAM is able to recall 3 out of 4 inputs</li>\n",
    "    <li>for current dataset i.e. x,y BAM is able to associate almost every input to output</li>\n",
    "    <li>Simple to design and Implement compared to other software tools design earlier</li>\n",
    "    <li>In our case it is not fully able to form association, for 1 value in backward direction it has wrong association.</li>\n",
    "</ul>"
   ]
  },
  {
   "cell_type": "code",
   "execution_count": null,
   "metadata": {},
   "outputs": [],
   "source": []
  }
 ],
 "metadata": {
  "kernelspec": {
   "display_name": "Python 3",
   "language": "python",
   "name": "python3"
  },
  "language_info": {
   "codemirror_mode": {
    "name": "ipython",
    "version": 3
   },
   "file_extension": ".py",
   "mimetype": "text/x-python",
   "name": "python",
   "nbconvert_exporter": "python",
   "pygments_lexer": "ipython3",
   "version": "3.8.6"
  }
 },
 "nbformat": 4,
 "nbformat_minor": 4
}

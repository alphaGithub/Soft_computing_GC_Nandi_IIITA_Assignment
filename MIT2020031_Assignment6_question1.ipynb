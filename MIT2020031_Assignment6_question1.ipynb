{
 "cells": [
  {
   "cell_type": "markdown",
   "metadata": {},
   "source": [
    "# Back propagation for 2-input 1 output X-NoR gate\n"
   ]
  },
  {
   "cell_type": "code",
   "execution_count": 1,
   "metadata": {},
   "outputs": [],
   "source": [
    "#Loading required packages :\n",
    "import numpy as np\n",
    "import matplotlib.pyplot as plt"
   ]
  },
  {
   "cell_type": "markdown",
   "metadata": {},
   "source": [
    "### Training dataset for XNOR (2 input) :"
   ]
  },
  {
   "cell_type": "code",
   "execution_count": 2,
   "metadata": {},
   "outputs": [
    {
     "name": "stdout",
     "output_type": "stream",
     "text": [
      "[[0 0]\n",
      " [0 1]\n",
      " [1 0]\n",
      " [1 1]]\n"
     ]
    }
   ],
   "source": [
    "#training data set for XNOR\n",
    "x_train = np.array([[0,0],\n",
    "              [0,1],\n",
    "              [1,0],\n",
    "              [1,1]])\n",
    "\n",
    "y_train = np.array([1,0,0,1])\n",
    "print(x_train[:,:])"
   ]
  },
  {
   "cell_type": "markdown",
   "metadata": {},
   "source": [
    "### Generating Testing data:"
   ]
  },
  {
   "cell_type": "code",
   "execution_count": 3,
   "metadata": {},
   "outputs": [
    {
     "name": "stdout",
     "output_type": "stream",
     "text": [
      "(100, 2) (100,)\n",
      "Display top 10 testing inputs  [[-0.2 -0.2]\n",
      " [-0.2 -0.1]\n",
      " [-0.2  0. ]\n",
      " [-0.2  0.1]\n",
      " [-0.2  0.2]\n",
      " [-0.2  0.8]\n",
      " [-0.2  0.9]\n",
      " [-0.2  1. ]\n",
      " [-0.2  1.1]\n",
      " [-0.2  1.2]] \n",
      "y= [1 1 1 1 1 0 0 0 0 0]\n"
     ]
    }
   ],
   "source": [
    "a=np.linspace(-0.2,0.2,5)        #points nearer to zero -0.1 to 0.1\n",
    "b=np.linspace(0.8,1.2,5)        #points nearer to one  -1.1 to 1.1\n",
    "c = np.hstack((a,b)) \n",
    "x_test = []\n",
    "y_test= []\n",
    "\n",
    "for i in c:                   #creating combination of points with three input\n",
    "    for j in c:\n",
    "        x_test.append([i,j])\n",
    "        tmp = np.round(x_test[-1])\n",
    "        if tmp[0]==tmp[1] :\n",
    "            y_test.append(1)\n",
    "        else:\n",
    "            y_test.append(0)\n",
    "            \n",
    "                \n",
    "            \n",
    "x_test = np.array(x_test)\n",
    "y_test = np.array(y_test)\n",
    "print(x_test.shape,y_test.shape)\n",
    "print(\"Display top 10 testing inputs \",x_test[:10,:],\"\\ny=\",y_test[:10])   "
   ]
  },
  {
   "cell_type": "markdown",
   "metadata": {},
   "source": [
    "### Defining Sigmoid :\n",
    "\\begin{equation}\n",
    "    y = \\frac{1}{1+ e^{-x}}\n",
    "\\end{equation}"
   ]
  },
  {
   "cell_type": "code",
   "execution_count": 4,
   "metadata": {},
   "outputs": [],
   "source": [
    "def sigmoid(x):\n",
    "    return 1/(1+np.exp(-x))"
   ]
  },
  {
   "cell_type": "markdown",
   "metadata": {},
   "source": [
    "### Initializing weights and theta for neural network\n",
    "\n",
    "wij is weight from node i to j. \\\n",
    "tk  is theta at node k."
   ]
  },
  {
   "cell_type": "code",
   "execution_count": 5,
   "metadata": {},
   "outputs": [],
   "source": [
    "w13,w14,w23,w24,w35,w45 = 0.5,0.9,0.4,1.0,-1.2,1.1\n",
    "t3,t4,t5=0.8,-0.1,0.3\n",
    "\n",
    "w = [w13,w14,w23,w24,w35,w45]\n",
    "t = [t3,t4,t5]"
   ]
  },
  {
   "cell_type": "markdown",
   "metadata": {},
   "source": [
    "### calculating output at each node (like feed forward)\n",
    "\n",
    "y3 = sigmoid($x_1w_{13} + x_2w_{23}-t_3$) \\\n",
    "y4 = sigmoid($x_1w_{14} + x_2w_{24}-t_4$) \\\n",
    "y5 = sigmoid($y_3w_{35} + y_4w_{45}-t_5$)\n"
   ]
  },
  {
   "cell_type": "code",
   "execution_count": 6,
   "metadata": {},
   "outputs": [
    {
     "name": "stdout",
     "output_type": "stream",
     "text": [
      "y3,y4,y5 --> (0.5249791874789399, 0.8807970779778823, 0.5097242138886783)\n"
     ]
    }
   ],
   "source": [
    "def outputs(x,w,t):\n",
    "    x1 = x[0]\n",
    "    x2 = x[1]\n",
    "    w13,w14,w23,w24,w35,w45 = w[0],w[1],w[2],w[3],w[4],w[5]\n",
    "    t3,t4,t5=t[0],t[1],t[2]\n",
    "    y3 = sigmoid((x1*w13 + x2*w23 - t3))\n",
    "    y4 = sigmoid((x1*w14 + x2*w24 - t4))\n",
    "    y5 = sigmoid((y3*w35 + y4*w45 - t5))\n",
    "    return y3,y4,y5\n",
    "\n",
    "print(\"y3,y4,y5 -->\",outputs(x_train[3],w,t))\n"
   ]
  },
  {
   "cell_type": "markdown",
   "metadata": {},
   "source": [
    "### Defining function to calculate Accuracy :"
   ]
  },
  {
   "cell_type": "code",
   "execution_count": 7,
   "metadata": {},
   "outputs": [],
   "source": [
    "def accuracy(x_test,y_test,w,t):\n",
    "    count =0\n",
    "    m,n = x_test.shape\n",
    "    for i in range(m):\n",
    "        y3,y4,y5 = outputs(x_test[i],w,t)\n",
    "        y5 = np.round(y5)\n",
    "        predict = y5\n",
    "        if predict==y_test[i]:        #counting if correct prediction\n",
    "            count +=1\n",
    "    \n",
    "    return (count*100)/m"
   ]
  },
  {
   "cell_type": "markdown",
   "metadata": {},
   "source": [
    "## Algorithm :\n",
    "\\begin{equation}\n",
    "e = y_{train} - y_5 \\\\ \n",
    "\\delta_5 = y_5(1-y_5)e \\\\\n",
    "\\end{equation}\n",
    "\\begin{equation}\n",
    "\\Delta w_{35} = \\alpha . y_3 . \\delta_5 \\\\\n",
    "\\Delta w_{45} = \\alpha . y_4 . \\delta_5 \\\\\n",
    "\\end{equation}\n",
    "\\begin{equation}\n",
    "\\Delta \\theta_5 = \\alpha .(-1). \\delta_5 \\\\\n",
    "\\delta_3 = y_3.(1-y_3).\\delta_5. w_{35} \\\\\n",
    "\\delta_4 = y_4.(1-y_4).\\delta_5. w_{45} \\\\\n",
    "\\end{equation}\n",
    "\\begin{equation}\n",
    "\\Delta w_{13} = \\alpha . x_1 . \\delta_3 \\\\\n",
    "\\Delta w_{23} = \\alpha . x_2 . \\delta_3 \\\\\n",
    "\\Delta \\theta_3 = \\alpha .(-1). \\delta_3 \\\\\n",
    "\\Delta w_{14} = \\alpha . x_1 . \\delta_4 \\\\\n",
    "\\Delta w_{24} = \\alpha . x_2 . \\delta_4 \\\\\n",
    "\\Delta \\theta_4 = \\alpha .(-1). \\delta_4 \\\\\n",
    "\\end{equation}\n",
    "\n",
    "\\begin{equation}\n",
    "w_{13} = w_{13} + \\Delta w_{13} \\\\\n",
    "w_{14} = w_{14} + \\Delta w_{14} \\\\\n",
    "w_{23} = w_{23} + \\Delta w_{23} \\\\\n",
    "w_{24} = w_{24} + \\Delta w_{24} \\\\\n",
    "w_{35} = w_{35} + \\Delta w_{35} \\\\\n",
    "w_{45} = w_{45} + \\Delta w_{45} \n",
    "\\end{equation}\n",
    "\n",
    "\\begin{equation}\n",
    "\\theta_3 = \\theta_3 + \\Delta \\theta_3 \\\\\n",
    "\\theta_4 = \\theta_4 + \\Delta \\theta_4 \\\\\n",
    "\\theta_5 = \\theta_5 + \\Delta \\theta_5\n",
    "\\end{equation}"
   ]
  },
  {
   "cell_type": "code",
   "execution_count": 8,
   "metadata": {},
   "outputs": [],
   "source": [
    "#implementing algorithm from above set of equations\n",
    "def backPropagationAlgorithm(x_train,y_train,w,t,alpha=0.1,max_epoch=10):\n",
    "    w13,w14,w23,w24,w35,w45 = w[0],w[1],w[2],w[3],w[4],w[5]\n",
    "    t3,t4,t5=t[0],t[1],t[2]\n",
    "    y3,y4,y5=0,0,0\n",
    "    loss = []\n",
    "    acc =  []\n",
    "    for epoch in range(max_epoch):\n",
    "        for i in range(x_train.shape[0]):\n",
    "            x1=x_train[i][0]\n",
    "            x2=x_train[i][1]\n",
    "            y3,y4,y5 = outputs(x_train[i],w,t)\n",
    "            \n",
    "            e =  (y_train[i]-y5)\n",
    "            d5 = y5*(1-y5)*e\n",
    "            \n",
    "            dw35 = alpha*y3*d5\n",
    "            dw45 = alpha*y4*d5\n",
    "            dt5 = alpha*(-1)*d5\n",
    "            \n",
    "            d3 = y3*(1-y3)*d5*w35\n",
    "            d4 = y4*(1-y4)*d5*w45\n",
    "            \n",
    "            dw13 = alpha*x1*d3\n",
    "            dw23 = alpha*x2*d3\n",
    "            dt3 = alpha*(-1)*d3\n",
    "            dw14 = alpha*x1*d4\n",
    "            dw24 = alpha*x2*d4\n",
    "            dt4 = alpha*(-1)*d4\n",
    "            \n",
    "            w13 = w13 + dw13\n",
    "            w14 = w14 + dw14\n",
    "            w23 = w23 + dw23\n",
    "            w24 = w24 + dw24\n",
    "            w35 = w35 + dw35\n",
    "            w45 = w45 + dw45\n",
    "            t3  = t3  + dt3\n",
    "            t4  = t4  + dt4\n",
    "            t5  = t5  + dt5\n",
    "            \n",
    "            w = [w13,w14,w23,w24,w35,w45]  \n",
    "            t = [t3,t4,t5]\n",
    "        loss.append(e)\n",
    "        acc.append(accuracy(x_test,y_test,w,t))\n",
    "    return w,t,loss,acc"
   ]
  },
  {
   "cell_type": "markdown",
   "metadata": {},
   "source": [
    "### Executing backPropagation Algorithm ,Calculating Accuracy for testing data."
   ]
  },
  {
   "cell_type": "code",
   "execution_count": 9,
   "metadata": {},
   "outputs": [
    {
     "name": "stdout",
     "output_type": "stream",
     "text": [
      "final Weight -> [ 5.5461  4.8941 -5.375  -4.5616 -7.2034  6.875 ]\n",
      "final theta  -> [3.2082443736870894, -2.2124715088257707, 3.1695066786443684]\n",
      "\n",
      "\n",
      "\n",
      "Training set ->\n",
      "x -> [0 0]  True --> 1    Predicted -> 1.0\n",
      "x -> [0 1]  True --> 0    Predicted -> 0.0\n",
      "x -> [1 0]  True --> 0    Predicted -> 0.0\n",
      "x -> [1 1]  True --> 1    Predicted -> 1.0\n",
      "Accuracy -> 100.0\n"
     ]
    }
   ],
   "source": [
    "w_new,t_new,loss,acc=backPropagationAlgorithm(x_train,y_train,w,t,alpha=0.1,max_epoch=15000)\n",
    "print(\"final Weight ->\",np.round(w_new,4))\n",
    "print(\"final theta  ->\",t_new)\n",
    "\n",
    "\n",
    "print(\"\\n\\n\\nTraining set ->\")\n",
    "for i in range(x_train.shape[0]):\n",
    "    y3,y4,yp = outputs(x_train[i],w_new,t_new)\n",
    "    print(\"x ->\",x_train[i],\" True -->\",y_train[i],\"   Predicted ->\",np.round(yp))\n",
    "    \n",
    "print(\"Accuracy ->\",accuracy(x_test,y_test,w_new,t_new)) #te"
   ]
  },
  {
   "cell_type": "markdown",
   "metadata": {},
   "source": [
    "### Plotting Loss vs epoch"
   ]
  },
  {
   "cell_type": "code",
   "execution_count": 10,
   "metadata": {},
   "outputs": [
    {
     "data": {
      "text/plain": [
       "[<matplotlib.lines.Line2D at 0x7f0957011df0>]"
      ]
     },
     "execution_count": 10,
     "metadata": {},
     "output_type": "execute_result"
    },
    {
     "data": {
      "image/png": "[encoded data removed]",
      "text/plain": [
       "<Figure size 720x360 with 1 Axes>"
      ]
     },
     "metadata": {
      "needs_background": "light"
     },
     "output_type": "display_data"
    }
   ],
   "source": [
    "f = plt.figure()\n",
    "f.set_figwidth(10) \n",
    "f.set_figheight(5)\n",
    "\n",
    "plt.plot()\n",
    "plt.xlabel(\"---epochs---\")\n",
    "plt.ylabel(\"--- loss ---\")\n",
    "plt.plot(loss)"
   ]
  },
  {
   "cell_type": "markdown",
   "metadata": {},
   "source": [
    "### Plotting Accuracy vs epoch"
   ]
  },
  {
   "cell_type": "code",
   "execution_count": 11,
   "metadata": {},
   "outputs": [
    {
     "data": {
      "text/plain": [
       "[<matplotlib.lines.Line2D at 0x7f091fa1f190>]"
      ]
     },
     "execution_count": 11,
     "metadata": {},
     "output_type": "execute_result"
    },
    {
     "data": {
      "image/png": "[encoded data removed]",
      "text/plain": [
       "<Figure size 720x360 with 1 Axes>"
      ]
     },
     "metadata": {
      "needs_background": "light"
     },
     "output_type": "display_data"
    }
   ],
   "source": [
    "f = plt.figure()\n",
    "f.set_figwidth(10) \n",
    "f.set_figheight(5)\n",
    "\n",
    "plt.plot()\n",
    "plt.xlabel(\"---epochs---\")\n",
    "plt.ylabel(\"--- Accuracy ---\")\n",
    "plt.plot(acc)"
   ]
  },
  {
   "cell_type": "markdown",
   "metadata": {},
   "source": [
    "### Visualizing decision boundary (X-NOR 2input)  blue=1,orange=0:"
   ]
  },
  {
   "cell_type": "code",
   "execution_count": 12,
   "metadata": {},
   "outputs": [
    {
     "data": {
      "image/png": "[encoded data removed]",
      "text/plain": [
       "<Figure size 576x360 with 1 Axes>"
      ]
     },
     "metadata": {
      "needs_background": "light"
     },
     "output_type": "display_data"
    }
   ],
   "source": [
    "#plotting de\n",
    "p = np.linspace(-2,2,200)\n",
    "px,py=[],[]\n",
    "nx,ny=[],[]\n",
    "\n",
    "for i in p:\n",
    "    for j in p:\n",
    "        y3,y4,y5 = outputs([i,j],w_new,t_new)\n",
    "        \n",
    "        if np.round(y5):\n",
    "            px.append(i)\n",
    "            py.append(j)\n",
    "        else:\n",
    "            nx.append(i)\n",
    "            ny.append(j)\n",
    "\n",
    "f = plt.figure()\n",
    "f.set_figwidth(8) \n",
    "f.set_figheight(5)\n",
    "\n",
    "plt.plot()\n",
    "plt.xlabel(\"---x1---\")\n",
    "plt.ylabel(\"---x2---\")\n",
    "plt.scatter(px,py)\n",
    "plt.scatter(nx,ny)\n",
    "plt.scatter(x_test[:,0],x_test[:,1])\n",
    "plt.scatter(x_train[:,0],x_train[:,1])\n",
    "plt.show()\n",
    "\n",
    "#orange = 0 , means where output is zero\n",
    "#blue   = 1 , means where output is one\n",
    "#green  is our testing data"
   ]
  },
  {
   "cell_type": "code",
   "execution_count": null,
   "metadata": {},
   "outputs": [],
   "source": []
  },
  {
   "cell_type": "markdown",
   "metadata": {},
   "source": [
    "# Result :\n",
    "Accuracy 100 % after epochs greater than 12000.\n"
   ]
  },
  {
   "cell_type": "markdown",
   "metadata": {},
   "source": [
    "## Analysis :\n",
    "<ul>\n",
    "    <li>$\\alpha$ ,i.e learning rate=0.1 is best.</li>\n",
    "    <li>$\\alpha$ less than 0.1 results in increase in loss.</li>\n",
    "    <li>$\\alpha$ greater than 0.1, training completes to fast</li>\n",
    "    <li>Loss decreases with increasing epochs(can be seen from plot).</li>\n",
    "    <li>Accuracy increases with increasing epochs</li>\n",
    "    <li>Accuracy remains nearly 50% for epochs less than 8000, run algorithm for higher epochs</li>\n",
    "    <li>Visualizing Decision boundary show non-linearly separable decision boundary</li>\n",
    "    <li><b>Precaution :</b>Epochs should be greater than 10000(for $\\alpha$ less than 0.1) </li>\n",
    "    <li><b>Conclusion :</b>Using network of neuron we can create model for non-linearly separable data.</li>\n",
    "</ul>"
   ]
  },
  {
   "cell_type": "code",
   "execution_count": null,
   "metadata": {},
   "outputs": [],
   "source": []
  }
 ],
 "metadata": {
  "kernelspec": {
   "display_name": "Python 3",
   "language": "python",
   "name": "python3"
  },
  "language_info": {
   "codemirror_mode": {
    "name": "ipython",
    "version": 3
   },
   "file_extension": ".py",
   "mimetype": "text/x-python",
   "name": "python",
   "nbconvert_exporter": "python",
   "pygments_lexer": "ipython3",
   "version": "3.9.7"
  }
 },
 "nbformat": 4,
 "nbformat_minor": 4
}

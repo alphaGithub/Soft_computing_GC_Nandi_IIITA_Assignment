{
 "cells": [
  {
   "cell_type": "markdown",
   "metadata": {},
   "source": [
    "## Problem statement : Consider any two Fuzzy numbers A and B of your own choice and perform  Fuzzy .\n",
    "1)Addition \\\n",
    "2)Subtraction, \\\n",
    "3)Multiplication \\\n",
    "4)Division .\t"
   ]
  },
  {
   "cell_type": "markdown",
   "metadata": {},
   "source": [
    "### Defining fuzzyInteger class to perform above task:"
   ]
  },
  {
   "cell_type": "code",
   "execution_count": 1,
   "metadata": {},
   "outputs": [],
   "source": [
    "class fuzzyInteger:\n",
    "    def __init__(self):\n",
    "        self.x = []\n",
    "        self.u = []\n",
    "        \n",
    "    def set(self,x,u):\n",
    "        self.x = x\n",
    "        self.u = u\n",
    "        \n",
    "    def display(self):                                         #to print the number\n",
    "        for i in range(len(self.x)):\n",
    "            print(\"%0.2f / %0.2f\" %(self.x[i],self.u[i]),end=\"\")\n",
    "            if i is not len(self.x)-1:\n",
    "                print(\"  +  \",end=\"\")\n",
    "        print(\"\")\n",
    "                \n",
    "    def add(self,B):                                          #to add two fuzzy number\n",
    "        C = fuzzyInteger()\n",
    "        for i in range(len(self.x)):\n",
    "            for j in range(len(B.x)):\n",
    "                x = self.x[i]+B.x[j]\n",
    "                u = min(self.u[i],B.u[j])                  \n",
    "                if x in C.x:                                    #removing duplicate by taking maximum\n",
    "                    index = C.x.index(x)\n",
    "                    C.u[index] = max(C.u[index],u)\n",
    "                else :\n",
    "                    C.x.append(x)\n",
    "                    C.u.append(u)\n",
    "                \n",
    "        return C\n",
    "    \n",
    "    def sub(self,B):                                       #to subtract two fuzzy number\n",
    "        C = fuzzyInteger()\n",
    "        for i in range(len(self.x)):\n",
    "            for j in range(len(B.x)):\n",
    "                x = self.x[i]-B.x[j]\n",
    "                u = min(self.u[i],B.u[j])\n",
    "                if x in C.x:\n",
    "                    index = C.x.index(x)\n",
    "                    C.u[index] = max(C.u[index],u)\n",
    "                else :\n",
    "                    C.x.append(x)\n",
    "                    C.u.append(u)\n",
    "                \n",
    "        return C\n",
    "    \n",
    "    def multi(self,B):                                    #to multiply two fuzzy number\n",
    "        C = fuzzyInteger()\n",
    "        for i in range(len(self.x)):\n",
    "            for j in range(len(B.x)):\n",
    "                x = self.x[i]*B.x[j]\n",
    "                u = min(self.u[i],B.u[j])\n",
    "                if x in C.x:\n",
    "                    index = C.x.index(x)\n",
    "                    C.u[index] = max(C.u[index],u)\n",
    "                else :\n",
    "                    C.x.append(x)\n",
    "                    C.u.append(u)\n",
    "                \n",
    "        return C\n",
    "    \n",
    "    def div(self,B):                                      #to divide two fuzzy number\n",
    "        C = fuzzyInteger()\n",
    "        for i in range(len(self.x)):\n",
    "            for j in range(len(B.x)):\n",
    "                x = self.x[i]/B.x[j]\n",
    "                u = min(self.u[i],B.u[j])\n",
    "                if x in C.x:\n",
    "                    index = C.x.index(x)\n",
    "                    C.u[index] = max(C.u[index],u)\n",
    "                else :\n",
    "                    C.x.append(x)\n",
    "                    C.u.append(u)\n",
    "                \n",
    "        return C"
   ]
  },
  {
   "cell_type": "markdown",
   "metadata": {},
   "source": [
    "### Number A:"
   ]
  },
  {
   "cell_type": "code",
   "execution_count": 8,
   "metadata": {},
   "outputs": [
    {
     "name": "stdout",
     "output_type": "stream",
     "text": [
      "0.70 / 0.30  +  1.10 / 0.60  +  1.38 / 1.00  +  1.61 / 0.60  +  1.79 / 0.30\n"
     ]
    }
   ],
   "source": [
    "A = fuzzyInteger()\n",
    "x_A = [0.7,1.1,1.38,1.61,1.79]\n",
    "u_A = [0.3,0.6,1,0.6,0.3]\n",
    "A.set(x_A,u_A)\n",
    "A.display()"
   ]
  },
  {
   "cell_type": "markdown",
   "metadata": {},
   "source": [
    "### Number B:"
   ]
  },
  {
   "cell_type": "code",
   "execution_count": 9,
   "metadata": {},
   "outputs": [
    {
     "name": "stdout",
     "output_type": "stream",
     "text": [
      "2.00 / 0.30  +  3.00 / 0.60  +  4.00 / 1.00  +  5.00 / 0.60  +  6.00 / 0.30\n"
     ]
    }
   ],
   "source": [
    "B = fuzzyInteger()\n",
    "x_B = [2,3,4,5,6]\n",
    "u_B =  [0.3,0.6,1,0.6,0.3]\n",
    "B.set(x_B,u_B)\n",
    "B.display()"
   ]
  },
  {
   "cell_type": "markdown",
   "metadata": {},
   "source": [
    "## Performing addition :"
   ]
  },
  {
   "cell_type": "code",
   "execution_count": 10,
   "metadata": {},
   "outputs": [
    {
     "name": "stdout",
     "output_type": "stream",
     "text": [
      "A :  0.70 / 0.30  +  1.10 / 0.60  +  1.38 / 1.00  +  1.61 / 0.60  +  1.79 / 0.30\n",
      "B :  2.00 / 0.30  +  3.00 / 0.60  +  4.00 / 1.00  +  5.00 / 0.60  +  6.00 / 0.30\n",
      "\n",
      "A + B :  2.70 / 0.30  +  3.70 / 0.30  +  4.70 / 0.30  +  5.70 / 0.30  +  6.70 / 0.30  +  3.10 / 0.30  +  4.10 / 0.60  +  5.10 / 0.60  +  6.10 / 0.60  +  7.10 / 0.30  +  3.38 / 0.30  +  4.38 / 0.60  +  5.38 / 1.00  +  6.38 / 0.60  +  7.38 / 0.30  +  3.61 / 0.30  +  4.61 / 0.60  +  5.61 / 0.60  +  6.61 / 0.60  +  7.61 / 0.30  +  3.79 / 0.30  +  4.79 / 0.30  +  5.79 / 0.30  +  6.79 / 0.30  +  7.79 / 0.30\n"
     ]
    }
   ],
   "source": [
    "C = A.add(B)\n",
    "print(\"A : \" ,end=\" \")\n",
    "A.display()\n",
    "print(\"B : \",end=\" \")\n",
    "B.display()\n",
    "print(\"\\nA + B :\",end= \"  \")\n",
    "C.display()"
   ]
  },
  {
   "cell_type": "markdown",
   "metadata": {},
   "source": [
    "### Performing Subtraction :"
   ]
  },
  {
   "cell_type": "code",
   "execution_count": 5,
   "metadata": {},
   "outputs": [
    {
     "name": "stdout",
     "output_type": "stream",
     "text": [
      "A :  1.00 / 0.10  +  2.00 / 0.20  +  3.00 / 0.30  +  4.00 / 0.40  +  5.00 / 0.50\n",
      "B :  6.00 / 0.30  +  7.00 / 0.40  +  8.00 / 0.50  +  9.00 / 1.00  +  10.00 / 0.50\n",
      "\n",
      "A - B :  -5.00 / 0.50  +  -6.00 / 0.40  +  -7.00 / 0.30  +  -8.00 / 0.20  +  -9.00 / 0.10  +  -4.00 / 0.50  +  -3.00 / 0.50  +  -2.00 / 0.40  +  -1.00 / 0.30\n"
     ]
    }
   ],
   "source": [
    "C = A.sub(B)\n",
    "print(\"A : \" ,end=\" \")\n",
    "A.display()\n",
    "print(\"B : \",end=\" \")\n",
    "B.display()\n",
    "print(\"\\nA - B :\",end= \"  \")\n",
    "C.display()"
   ]
  },
  {
   "cell_type": "markdown",
   "metadata": {},
   "source": [
    "### Performing multiplication :"
   ]
  },
  {
   "cell_type": "code",
   "execution_count": 6,
   "metadata": {},
   "outputs": [
    {
     "name": "stdout",
     "output_type": "stream",
     "text": [
      "A :  1.00 / 0.10  +  2.00 / 0.20  +  3.00 / 0.30  +  4.00 / 0.40  +  5.00 / 0.50\n",
      "B :  6.00 / 0.30  +  7.00 / 0.40  +  8.00 / 0.50  +  9.00 / 1.00  +  10.00 / 0.50\n",
      "\n",
      "A * B :  6.00 / 0.10  +  7.00 / 0.10  +  8.00 / 0.10  +  9.00 / 0.10  +  10.00 / 0.10  +  12.00 / 0.20  +  14.00 / 0.20  +  16.00 / 0.20  +  18.00 / 0.30  +  20.00 / 0.20  +  21.00 / 0.30  +  24.00 / 0.30  +  27.00 / 0.30  +  30.00 / 0.30  +  28.00 / 0.40  +  32.00 / 0.40  +  36.00 / 0.40  +  40.00 / 0.50  +  35.00 / 0.40  +  45.00 / 0.50  +  50.00 / 0.50\n"
     ]
    }
   ],
   "source": [
    "C = A.multi(B)\n",
    "print(\"A : \" ,end=\" \")\n",
    "A.display()\n",
    "print(\"B : \",end=\" \")\n",
    "B.display()\n",
    "print(\"\\nA * B :\",end= \"  \")\n",
    "C.display()"
   ]
  },
  {
   "cell_type": "markdown",
   "metadata": {},
   "source": [
    "### Performing Division :"
   ]
  },
  {
   "cell_type": "code",
   "execution_count": 7,
   "metadata": {},
   "outputs": [
    {
     "name": "stdout",
     "output_type": "stream",
     "text": [
      "A :  1.00 / 0.10  +  2.00 / 0.20  +  3.00 / 0.30  +  4.00 / 0.40  +  5.00 / 0.50\n",
      "B :  6.00 / 0.30  +  7.00 / 0.40  +  8.00 / 0.50  +  9.00 / 1.00  +  10.00 / 0.50\n",
      "\n",
      "A / B :  0.17 / 0.10  +  0.14 / 0.10  +  0.12 / 0.10  +  0.11 / 0.10  +  0.10 / 0.10  +  0.33 / 0.30  +  0.29 / 0.20  +  0.25 / 0.20  +  0.22 / 0.20  +  0.20 / 0.20  +  0.50 / 0.50  +  0.43 / 0.30  +  0.38 / 0.30  +  0.30 / 0.30  +  0.67 / 0.30  +  0.57 / 0.40  +  0.44 / 0.40  +  0.40 / 0.40  +  0.83 / 0.30  +  0.71 / 0.40  +  0.62 / 0.50  +  0.56 / 0.50\n"
     ]
    }
   ],
   "source": [
    "C = A.div(B)\n",
    "print(\"A : \" ,end=\" \")\n",
    "A.display()\n",
    "print(\"B : \",end=\" \")\n",
    "B.display()\n",
    "print(\"\\nA / B :\",end= \"  \")\n",
    "C.display()"
   ]
  },
  {
   "cell_type": "code",
   "execution_count": null,
   "metadata": {},
   "outputs": [],
   "source": []
  }
 ],
 "metadata": {
  "kernelspec": {
   "display_name": "Python 3",
   "language": "python",
   "name": "python3"
  },
  "language_info": {
   "codemirror_mode": {
    "name": "ipython",
    "version": 3
   },
   "file_extension": ".py",
   "mimetype": "text/x-python",
   "name": "python",
   "nbconvert_exporter": "python",
   "pygments_lexer": "ipython3",
   "version": "3.8.6"
  }
 },
 "nbformat": 4,
 "nbformat_minor": 4
}

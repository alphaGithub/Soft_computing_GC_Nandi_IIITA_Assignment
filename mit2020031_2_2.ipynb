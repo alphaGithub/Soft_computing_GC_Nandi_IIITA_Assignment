{
 "cells": [
  {
   "cell_type": "markdown",
   "metadata": {},
   "source": [
    "### Question 2)\n",
    "Design a linear regression model using normal equations for the data of COVID-19 deaths for India for the month of May-July, 2020 and from here predict the COVID-19  deaths for the month of August, 2020. Hence calculate the validation error."
   ]
  },
  {
   "cell_type": "code",
   "execution_count": 119,
   "metadata": {},
   "outputs": [],
   "source": [
    "#loading required packages\n",
    "from bs4 import BeautifulSoup\n",
    "import requests\n",
    "from matplotlib import pyplot as plt\n",
    "import numpy as np"
   ]
  },
  {
   "cell_type": "markdown",
   "metadata": {},
   "source": [
    "## Collecting Data  From Url (Automated) (using concept from question 1)"
   ]
  },
  {
   "cell_type": "code",
   "execution_count": 154,
   "metadata": {},
   "outputs": [
    {
     "data": {
      "image/png": "[encoded data removed]",
      "text/plain": [
       "<Figure size 1080x360 with 1 Axes>"
      ]
     },
     "metadata": {
      "needs_background": "light"
     },
     "output_type": "display_data"
    }
   ],
   "source": [
    "#get data from url\n",
    "def getDataFromUrl(url):\n",
    "    headers = headers = {'User-Agent': \"Mozilla/5.0 (X11; Linux x86_64) AppleWebKit/537.36 (KHTML, like Gecko) Chrome/77.0.3865.90 Safari/537.36\"}\n",
    "    response = requests.request(\"GET\",url,headers = headers)\n",
    "    data = BeautifulSoup(response.text,'html.parser')\n",
    "    return data\n",
    "\n",
    "#URLs from which data has to be collected\n",
    "url={}\n",
    "url['USA'] = \"https://www.worldometers.info/coronavirus/country/us/\"\n",
    "#url['Brazil'] = \"https://www.worldometers.info/coronavirus/country/brazil/\"\n",
    "#url['India'] = \"https://www.worldometers.info/coronavirus/country/india/\"\n",
    "country = \"USA\"\n",
    "#country = \"Brazil\"\n",
    "#country = \"India\"\n",
    "\n",
    "#collect x,y from site\n",
    "def getXAndY(data):\n",
    "    data = str(data)\n",
    "    a,b,c,d = data.find(\"categories\"),data.find(\"yAxis\"),data.find(\"data\"),data.find(\"responsive\")\n",
    "    x =data[a+1:b]\n",
    "    a,b = x.find(\"[\"),x.find(\"]\")\n",
    "    x=x[a+1:b].split(\",\")\n",
    "    X = []\n",
    "    i=0\n",
    "    while(i<len(x)):\n",
    "        X.append(x[i]+x[i+1])\n",
    "        i = i+2\n",
    "    y = data[c+1:d]\n",
    "    c,d = y.find(\"[\"),y.find(\"]\")\n",
    "    Y = y[c+1:d].split(\",\")\n",
    "    return X,Y\n",
    "\n",
    "#processing part of data from url \n",
    "#plotting the data\n",
    "def processAndPlot(cards_data,country):\n",
    "    data_cases = cards_data[0].find('script')\n",
    "    data_death = cards_data[3].find('script')\n",
    "    x1,y1 = getXAndY(data_cases)\n",
    "    x2,y2 = getXAndY(data_death)\n",
    "\n",
    "    x = []\n",
    "    for i in range(len(x1)):\n",
    "        x.append(i)\n",
    "    y2 = [int(y) for y in y2]\n",
    "    y1 = [int(y) for y in y1]\n",
    "    \n",
    "    \n",
    "    f = plt.figure()\n",
    "    f.set_figwidth(15) \n",
    "    f.set_figheight(5)\n",
    "    plt.title(\"Total Deaths (\"+country+\")\")\n",
    "    plt.xlabel(\"Number of days (start :\"+x2[0]+\")  (end :\"+x2[-1]+\" )\")\n",
    "    plt.ylabel(\"Total death\")\n",
    "    plt.plot(x,y2)\n",
    "    plt.show()\n",
    "    return x2,y2\n",
    "\n",
    "#plotting graph \n",
    "\n",
    "url_country = url[country]\n",
    "data = getDataFromUrl(url_country)\n",
    "cards_data = data.find_all('div',attrs={'class','col-md-12'})\n",
    "x,y =processAndPlot(cards_data,country)\n",
    "x=[j[1:-1] for j in x]"
   ]
  },
  {
   "cell_type": "markdown",
   "metadata": {},
   "source": [
    "### Slicing data From May to August From total data\n",
    "May - July : Training and validation\\\n",
    "August : Testing"
   ]
  },
  {
   "cell_type": "code",
   "execution_count": 156,
   "metadata": {},
   "outputs": [],
   "source": [
    "start_index = x.index('May 01 2020')\n",
    "end_index = x.index('Jul 31 2020')\n",
    "x_data = x[start_index:end_index+1]\n",
    "y_data = y[start_index:end_index+1]\n",
    "start_index_test = x.index('Aug 01 2020')\n",
    "end_index_test = x.index('Aug 31 2020')\n",
    "x_test_date = x[start_index_test:end_index_test+1]\n",
    "y_test = y[start_index_test:end_index_test+1]\n"
   ]
  },
  {
   "cell_type": "markdown",
   "metadata": {},
   "source": [
    "### Splitting training dataset for validation\n",
    "Every index that is multiple of 3 is put aside as validation data"
   ]
  },
  {
   "cell_type": "code",
   "execution_count": 157,
   "metadata": {},
   "outputs": [],
   "source": [
    "x_valid_date=[]\n",
    "x_valid=[]\n",
    "y_valid=[]\n",
    "\n",
    "x_train=[]\n",
    "x_train_date=[]\n",
    "y_train=[]\n",
    "\n",
    "\n",
    "i=0\n",
    "for i in range(len(x_data)):\n",
    "    if i%3==0:\n",
    "        x_valid_date.append(x_data[i])\n",
    "        x_valid.append(i)\n",
    "        y_valid.append(y_data[i])\n",
    "    else:\n",
    "        x_train_date.append(x_data[i])\n",
    "        x_train.append(i)\n",
    "        y_train.append(y_data[i])\n",
    "x_test = [k for k in range(i+1,i+32)]"
   ]
  },
  {
   "cell_type": "markdown",
   "metadata": {},
   "source": [
    "### Some additional processing of data\n",
    "Adding x0=1 for every data unit in matrix as h(x) = w0 + w1(x)"
   ]
  },
  {
   "cell_type": "code",
   "execution_count": 158,
   "metadata": {},
   "outputs": [
    {
     "name": "stdout",
     "output_type": "stream",
     "text": [
      "(61, 2) (61, 1)\n"
     ]
    }
   ],
   "source": [
    "#adding column of 1  as x0 = 1\n",
    "#hw(x) =w0 + w1x\n",
    "x_train,y_train=np.array(x_train),np.array(y_train)\n",
    "x_valid,y_valid=np.array(x_valid),np.array(y_valid)\n",
    "x_test,y_test =np.array(x_test),np.array(y_test)\n",
    "one = np.ones((x_train.shape[0],2))\n",
    "x_train=x_train.reshape(x_train.shape[0],1)\n",
    "print(one.shape,x_train.shape)\n",
    "one[:,1:]=x_train[:,0:]\n",
    "x_train = one\n",
    "\n",
    "one = np.ones((x_valid.shape[0],2))\n",
    "x_valid=x_valid.reshape(x_valid.shape[0],1)\n",
    "one[:,1:]=x_valid[:,0:]\n",
    "x_valid = one\n",
    "\n",
    "one = np.ones((x_test.shape[0],2))\n",
    "x_test =x_test.reshape(x_test.shape[0],1)\n",
    "one[:,1:]=x_test[:,0:]\n",
    "x_test = one\n"
   ]
  },
  {
   "cell_type": "markdown",
   "metadata": {},
   "source": [
    "### Calculation of weight through Normal equation through function"
   ]
  },
  {
   "cell_type": "code",
   "execution_count": 160,
   "metadata": {},
   "outputs": [],
   "source": [
    "# ridge Regression\n",
    "def Normal_Linear_Regression(x,y):\n",
    "    m,n = x.shape\n",
    "    y = y.reshape(m,1)\n",
    "    # w = (x'x)-1 * x,y\n",
    "    p = np.matmul(x.T,x)\n",
    "    p = np.linalg.inv(p)\n",
    "    w = np.matmul(p,np.matmul(x.T,y))\n",
    "    return w"
   ]
  },
  {
   "cell_type": "code",
   "execution_count": 161,
   "metadata": {},
   "outputs": [
    {
     "name": "stdout",
     "output_type": "stream",
     "text": [
      "(2, 1)\n",
      "[[79249.54408602]\n",
      " [  861.28155168]]\n"
     ]
    }
   ],
   "source": [
    "w =Normal_Linear_Regression(x_train,y_train)\n",
    "print(w.shape)\n",
    "print(w)"
   ]
  },
  {
   "cell_type": "markdown",
   "metadata": {},
   "source": [
    "### defining hypothesis , cost function and prediction as function"
   ]
  },
  {
   "cell_type": "code",
   "execution_count": 162,
   "metadata": {},
   "outputs": [],
   "source": [
    "def h_func(x,w):\n",
    "    return np.dot(x,w)\n",
    "\n",
    "def cost_func(x,y,w):\n",
    "    m,n=x.shape\n",
    "    y = y.reshape(m,1)\n",
    "    return np.sum((h_func(x,w)-y)**2)/(2*m)"
   ]
  },
  {
   "cell_type": "markdown",
   "metadata": {},
   "source": [
    "## Plotting graph for deaths for training and hypothesis FOR TRAINING AND VALIDATION DATA"
   ]
  },
  {
   "cell_type": "code",
   "execution_count": 163,
   "metadata": {},
   "outputs": [
    {
     "data": {
      "image/png": "[encoded data removed]",
      "text/plain": [
       "<Figure size 1080x360 with 1 Axes>"
      ]
     },
     "metadata": {
      "needs_background": "light"
     },
     "output_type": "display_data"
    }
   ],
   "source": [
    "h = h_func(x_valid,w)\n",
    "f= plt.figure()\n",
    "f.set_figwidth(15) \n",
    "f.set_figheight(5)\n",
    "plt.xlabel(\"Days ,starting :\"+x_data[0])\n",
    "plt.ylabel(\"Deaths\")\n",
    "plt.scatter(x_train[:,1:2],y_train)             # training \n",
    "plt.plot(x_valid[:,1:2].flatten(),h,color=\"red\")   # validation\n",
    "plt.show()"
   ]
  },
  {
   "cell_type": "markdown",
   "metadata": {},
   "source": [
    "## Predict Deaths on Any day in August"
   ]
  },
  {
   "cell_type": "code",
   "execution_count": 164,
   "metadata": {},
   "outputs": [
    {
     "name": "stdout",
     "output_type": "stream",
     "text": [
      "97\n",
      "Predicted Deaths on Aug 06 2020  : 162793.8545994614\n",
      "106\n",
      "Predicted Deaths on Aug 15 2020  : 170545.38856462593\n"
     ]
    }
   ],
   "source": [
    "def predict(date,w):\n",
    "    day = x.index(date)\n",
    "    day_zero = x.index('May 01 2020')\n",
    "    print(day-day_zero)\n",
    "    xi = day-day_zero\n",
    "    xi = np.array([1,xi])\n",
    "    return h_func(xi,w)[0]\n",
    "    \n",
    "Date = 'Aug 06 2020'\n",
    "print(\"Predicted Deaths on\",Date,\" :\",predict(Date,w))\n",
    "\n",
    "Date = 'Aug 15 2020'\n",
    "print(\"Predicted Deaths on\",Date,\" :\",predict(Date,w))"
   ]
  },
  {
   "cell_type": "markdown",
   "metadata": {},
   "source": [
    "## Plotting graph for Testing data (i.e August)"
   ]
  },
  {
   "cell_type": "code",
   "execution_count": 165,
   "metadata": {},
   "outputs": [
    {
     "data": {
      "image/png": "[encoded data removed]",
      "text/plain": [
       "<Figure size 1080x360 with 1 Axes>"
      ]
     },
     "metadata": {
      "needs_background": "light"
     },
     "output_type": "display_data"
    }
   ],
   "source": [
    "h = h_func(x_test,w)\n",
    "f= plt.figure()\n",
    "f.set_figwidth(15) \n",
    "f.set_figheight(5)\n",
    "plt.xlabel(\"Days ,starting :\"+x_test_date[0])\n",
    "plt.ylabel(\"Deaths\")\n",
    "plt.scatter(x_test[:,1:2],y_test)\n",
    "plt.plot(x_test[:,1:2].flatten(),h,color=\"red\")\n",
    "plt.show()\n"
   ]
  },
  {
   "cell_type": "markdown",
   "metadata": {},
   "source": [
    "## Computing Validation Error"
   ]
  },
  {
   "cell_type": "code",
   "execution_count": 166,
   "metadata": {},
   "outputs": [
    {
     "data": {
      "text/plain": [
       "8345450.675220406"
      ]
     },
     "execution_count": 166,
     "metadata": {},
     "output_type": "execute_result"
    }
   ],
   "source": [
    "cost_func(x_valid,y_valid,w)"
   ]
  },
  {
   "cell_type": "markdown",
   "metadata": {},
   "source": [
    "## Observations:\n",
    "1.Prediction of August month , Error in prediction for USA is more than for brazil(change url and Country for brazil).\\\n",
    "2.Validation Error for USA is higher compared to Brazil.\\\n",
    "3.Hypothesis for USA is slightly underfit , to resolve this h(x) = w0 + w1(x) +w2($x^2)$ + .... can be used"
   ]
  },
  {
   "cell_type": "markdown",
   "metadata": {},
   "source": [
    "\\begin{equation}\n",
    "\\end{equation}"
   ]
  },
  {
   "cell_type": "markdown",
   "metadata": {},
   "source": [
    "## \\begin{matrix}\n",
    "\\sum _{i=1}^{i=m} \\frac{x}{y}\n",
    "\\end{matrix}"
   ]
  },
  {
   "cell_type": "code",
   "execution_count": 167,
   "metadata": {},
   "outputs": [],
   "source": []
  },
  {
   "cell_type": "code",
   "execution_count": null,
   "metadata": {},
   "outputs": [],
   "source": []
  }
 ],
 "metadata": {
  "kernelspec": {
   "display_name": "Python 3",
   "language": "python",
   "name": "python3"
  },
  "language_info": {
   "codemirror_mode": {
    "name": "ipython",
    "version": 3
   },
   "file_extension": ".py",
   "mimetype": "text/x-python",
   "name": "python",
   "nbconvert_exporter": "python",
   "pygments_lexer": "ipython3",
   "version": "3.8.6"
  }
 },
 "nbformat": 4,
 "nbformat_minor": 4
}

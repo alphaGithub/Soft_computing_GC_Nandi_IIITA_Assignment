{
 "cells": [
  {
   "cell_type": "markdown",
   "metadata": {},
   "source": [
    "# Question 3:\n",
    "\n",
    "Data collection technique:\n",
    "\n",
    "Problem statement: Parse website makemytrip.com or goibibo.com to collect\n",
    "all the listed hotel details.\n",
    "\n",
    "Step1: pick any one website mentioned above.\n",
    "\n",
    "Step 2: analyse and find a pattern in hotel urls with city/ country etc detailsand also use\n",
    "\n",
    "\n",
    "● www.makemytrip.com/robots.txt\n",
    "\n",
    "● www.goibibo.com/robots.txt"
   ]
  },
  {
   "cell_type": "code",
   "execution_count": 1,
   "metadata": {},
   "outputs": [],
   "source": [
    "#loading required packages\n",
    "from bs4 import BeautifulSoup\n",
    "import pandas as pd\n",
    "import requests\n",
    "import random"
   ]
  },
  {
   "cell_type": "markdown",
   "metadata": {},
   "source": [
    "### getDataFromUrl(url) : \n",
    "    input : url\n",
    "    output : data extracted from site"
   ]
  },
  {
   "cell_type": "code",
   "execution_count": 2,
   "metadata": {},
   "outputs": [],
   "source": [
    "headers = headers = {'User-Agent': \"Mozilla/5.0 (X11; Linux x86_64) AppleWebKit/537.36 (KHTML, like Gecko) Chrome/77.0.3865.90 Safari/537.36\"}\n",
    "\n",
    "#get data from url\n",
    "def getDataFromUrl(url):\n",
    "    headers = headers = {'User-Agent': \"Mozilla/5.0 (X11; Linux x86_64) AppleWebKit/537.36 (KHTML, like Gecko) Chrome/77.0.3865.90 Safari/537.36\"}\n",
    "    response = requests.request(\"GET\",url,headers = headers)\n",
    "    data = BeautifulSoup(response.text,'html.parser')\n",
    "    return data"
   ]
  },
  {
   "cell_type": "markdown",
   "metadata": {},
   "source": [
    "### Collecting Data from urls\n",
    "Url file containing information: \\\n",
    "additional link can be added to urls file when required \\\n",
    "https://www.goibibo.com/hotels/hotels-in-delhi-ct/ \\\n",
    "https://www.goibibo.com/hotels/intl-hotels-in-maldives-ct/ \\\n",
    "https://www.goibibo.com/hotels/hotels-in-ooty-ct/ \\\n",
    "https://www.goibibo.com/hotels/intl-hotels-in-paris-ct/ \\\n",
    "https://www.goibibo.com/hotels/hotels-in-mysore-ct/ \\\n",
    "https://www.goibibo.com/hotels/hotels-in-hyderabad-ct/ \\\n",
    "https://www.goibibo.com/hotels/hotels-in-bangalore-ct/ \\\n",
    "https://www.goibibo.com/hotels/intl-hotels-in-dubai-ct/ \\\n",
    "https://www.goibibo.com/hotels/intl-hotels-in-london-ct/ \\\n",
    "https://www.goibibo.com/hotels/hotels-in-mumbai-ct/ \\\n",
    "https://www.goibibo.com/hotels/hotels-in-goa-ct/ \\\n",
    "https://www.goibibo.com/hotels/hotels-in-agra-ct/ \\\n",
    "https://www.goibibo.com/hotels/hotels-in-manali-ct/ \\\n",
    "https://www.goibibo.com/hotels/hotels-in-shimla-ct/ \\\n",
    "https://www.goibibo.com/hotels/hotels-in-udaipur-ct/ \n",
    "\n",
    "data from these url for hotels in particular destination is extracted "
   ]
  },
  {
   "cell_type": "code",
   "execution_count": 3,
   "metadata": {},
   "outputs": [
    {
     "name": "stdout",
     "output_type": "stream",
     "text": [
      "Total Number of Cards Found :  600\n"
     ]
    }
   ],
   "source": [
    "\n",
    "cards_data=[]   #contains card information of particular hotels\n",
    "url_file = open(\"urls\",'r')\n",
    "for url in url_file.readlines():\n",
    "    data = getDataFromUrl(url)\n",
    "    cards_data += data.find_all('div',attrs={'class','HotelCardstyles__OuterWrapperDiv-sc-1s80tyk-0 iTOfCj'})\n",
    "url_file.close()\n",
    "print('Total Number of Cards Found : ', len(cards_data))"
   ]
  },
  {
   "cell_type": "markdown",
   "metadata": {},
   "source": [
    "### Scrapping Hotel Details\n",
    "by using find() and find_all() and storing it in list\n"
   ]
  },
  {
   "cell_type": "code",
   "execution_count": null,
   "metadata": {},
   "outputs": [
    {
     "name": "stdout",
     "output_type": "stream",
     "text": [
      "1 .  Crowne Plaza NEW DELHI MAYUR VIHAR NOIDA 2804 4.4/5 India Delhi East Delhi\n",
      "2 .  Radisson Blu Plaza Delhi Airport 2835 4.3/5 India Delhi Mahipalpur\n",
      "3 .  Hotel Aman Continental 1840 4.2/5 India Delhi Paharganj\n",
      "4 .  The Gold Regency@2mins Walk From New Delhi Railway Station 1210 4.2/5 India Delhi Paharganj\n",
      "5 .  Holiday Inn New Delhi International Airport 3299 4.3/5 India Delhi Indira Gandhi International Airport\n",
      "6 .  Taj Palace, New Delhi 7362 4.6/5 India Delhi Chanakyapuri\n",
      "7 .  Hotel International Inn 988 4.1/5 India Delhi Mahipalpur\n",
      "8 .  Hotel Chanakya Inn 607 3.6/5 India Delhi Mahipalpur\n",
      "9 .  Hotel Hari Piorko 850 4.1/5 India Delhi Paharganj\n",
      "10 .  Ginger Hotel (East Delhi) 2764 3.8/5 India Delhi East Delhi\n",
      "11 .  Red Fox Hotel Delhi Airport 2280 3.9/5 India Delhi Indira Gandhi International Airport\n",
      "12 .  Radisson Blu New Delhi Dwarka 4400 4/5 India Delhi Sector 13 Dwarka\n",
      "Error while parsing\n",
      "13 .  Vivanta New Delhi, Dwarka 6375 4.4/5 India Delhi Sector 21 Dwarka\n",
      "14 .  Pride Plaza Hotel Aerocity New Delhi 6749 4.3/5 India Delhi Indira Gandhi International Airport\n",
      "15 .  Grand Venizia Hotel 10534 3.8/5 India Delhi North Delhi\n",
      "16 .  Roseate House New Delhi 5329 4.5/5 India Delhi Indira Gandhi International Airport\n",
      "17 .  Park Inn by Radisson, Lajpat Nagar 4274 4.2/5 India Delhi South Delhi\n",
      "18 .  Lemon Tree Premier Delhi Airport 2671 3.9/5 India Delhi Indira Gandhi International Airport\n",
      "19 .  Westend Inn 2000 2/5 India Delhi Rangpuri\n",
      "Error while parsing\n",
      "20 .  Hotel Pearl 509 4/5 India Delhi Mahipalpur\n",
      "21 .  Olivia Hotels 518 4.1/5 India Delhi Mahipalpur\n",
      "22 .  Shangri-La's - Eros Hotel, New Delhi 6300 4.6/5 India Delhi Connaught Place\n",
      "23 .  Holiday Inn NEW DELHI MAYUR VIHAR NOIDA 2720 4.3/5 India Delhi East Delhi\n",
      "24 .  Welcomhotel Dwarka, Member of ITC's Hotel Group 5200 4.2/5 India Delhi Sector 10 Dwarka\n",
      "25 .  Hotel ALL IZ WELL 1065 4.1/5 India Delhi Paharganj\n",
      "26 .  Crowne Plaza Rohini 7088 4.5/5 India Delhi Rohini\n",
      "27 .  The Leela Delhi Ambience Convention Hotel 5499 4.4/5 India Delhi East Delhi\n",
      "28 .  The Daanish Residency 688 4/5 India Delhi Karol bagh\n",
      "Error while parsing\n",
      "Error while parsing\n",
      "Error while parsing\n",
      "Error while parsing\n"
     ]
    }
   ],
   "source": [
    "i=1\n",
    "all_hotel_details = []\n",
    "for cards in cards_data:\n",
    "    try:\n",
    "        hotel_detail = {}\n",
    "        \n",
    "        #extracting hotel name , price , locality\n",
    "        hotel_name = cards.find('a',attrs={'class':'HotelCardstyles__HotelNameSeoAnchor-sc-1s80tyk-12 kZJdUo'})\n",
    "        room_price = cards.find('p',attrs={'class':'HotelCardstyles__CurrentPrice-sc-1s80tyk-27 czKsrL'})\n",
    "        hotel_local_addr=cards.find('span',attrs={'class':'PersuasionHoverTextstyles__HoverTargetWrapperDiv-sc-1c06rw1-2 eGhSZO'}) \n",
    "    \n",
    "        hotel_link = cards.find('a',attrs={'class':'HotelCardstyles__HotelNameSeoAnchor-sc-1s80tyk-12 kZJdUo'})\n",
    "        hotel_url = \"https://www.goibibo.com\"+hotel_link.get('href')\n",
    "        hotel_response = requests.request(\"GET\", hotel_url, headers=headers)\n",
    "        hotel_data = BeautifulSoup(hotel_response.text, 'html.parser')\n",
    "        \n",
    "        #extracting hotel location\n",
    "        hotel_location = hotel_data.find_all(class_=\"Breadcrumbstyles__BreadCrumbATagItemLink-ily95m-5 jTXEcu\")\n",
    "        hotel_country = hotel_location[0].text[11:]\n",
    "        hotel_city = hotel_location[1].text[11:]\n",
    "        \n",
    "        #extracting hotel rating \n",
    "        hotel_rating = hotel_data.find(class_=\"ReviewInfostyles__ReviewNumber-sc-1hepu7p-3 bLaWre\")\n",
    "    \n",
    "        #extracting hotel amenities as array\n",
    "        hotel_amenities = hotel_data.find_all(class_='Amenitiesstyles__AmenityItemText-sc-10opy4a-8 iwRmcg')\n",
    "        hotel_amenities_array = []\n",
    "        for h in hotel_amenities:\n",
    "            hotel_amenities_array.append(h.text)\n",
    "        \n",
    "        #extracting hotel description\n",
    "        hotel_desc = hotel_data.find(class_=\"DetailsPageLayoutstyles__WrapperSection-t8l2sc-0 jSOSwZ\")\n",
    "        \n",
    "        \n",
    "        #extracting hotel review\n",
    "        hotel_review = hotel_data.find_all(class_=\"UserReviewstyles__UserReviewTextStyle-sc-1y05l7z-4 dTkBBw\")\n",
    "        review1 = \"\"\n",
    "        review2 = \"\"\n",
    "        if(len(hotel_review)>=2):\n",
    "            hotel_review2 = random.sample(hotel_review,2)\n",
    "            review1 = hotel_review2[0].text\n",
    "            review2 = hotel_review2[1].text\n",
    "        #storing information in dictionary format   \n",
    "        hotel_detail['Hotel_Name'] = hotel_name.text\n",
    "        hotel_detail['Rating'] = hotel_rating.text\n",
    "        hotel_detail['Country'] = hotel_country\n",
    "        hotel_detail['City'] = hotel_city\n",
    "        hotel_detail['Locality'] = hotel_local_addr.text\n",
    "        hotel_detail['Price_per_night'] = room_price.text\n",
    "        hotel_detail['Amenities'] = hotel_amenities_array\n",
    "        hotel_detail['Description'] = hotel_desc.text\n",
    "        hotel_detail['Review_1'] = review1\n",
    "        hotel_detail['Review_2'] = review2\n",
    "        \n",
    "        #displaying some of the information\n",
    "        print(i,\". \",hotel_name.text,room_price.text,hotel_rating.text,hotel_country,hotel_city,hotel_local_addr.text)\n",
    "        all_hotel_details.append(hotel_detail)\n",
    "        i += 1\n",
    "    except:\n",
    "        print(\"Error while parsing\")\n",
    "\n"
   ]
  },
  {
   "cell_type": "markdown",
   "metadata": {},
   "source": [
    "### Saving data to csv file after grouping it by country and city."
   ]
  },
  {
   "cell_type": "code",
   "execution_count": 7,
   "metadata": {},
   "outputs": [],
   "source": [
    "#grouping Data by country and city\n",
    "all_hotel_details = sorted(all_hotel_details,key = lambda i: (i['Country'],i['City']))\n",
    "#saving collected data\n",
    "save_data= pd.DataFrame.from_dict(all_hotel_details)\n",
    "save_data.to_csv('hotels_detail.csv',index=False,sep=',')"
   ]
  },
  {
   "cell_type": "code",
   "execution_count": null,
   "metadata": {},
   "outputs": [],
   "source": []
  }
 ],
 "metadata": {
  "kernelspec": {
   "display_name": "Python 3",
   "language": "python",
   "name": "python3"
  },
  "language_info": {
   "codemirror_mode": {
    "name": "ipython",
    "version": 3
   },
   "file_extension": ".py",
   "mimetype": "text/x-python",
   "name": "python",
   "nbconvert_exporter": "python",
   "pygments_lexer": "ipython3",
   "version": "3.8.6"
  }
 },
 "nbformat": 4,
 "nbformat_minor": 4
}

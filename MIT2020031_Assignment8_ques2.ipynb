{
 "cells": [
  {
   "cell_type": "markdown",
   "metadata": {},
   "source": [
    "## Question 2(Kohonen Network):\n",
    "Consider a Kohonen network with 100 neurons arranged in the form of a two-dimensional lattice with 10 rows and 10 columns .  \\\n",
    "The network is required to classify two-dimensional input vectors such that each neuron in the network should respond only to the input vectors occurring in its region. \\\n",
    "Train the network with 1500 two-dimensional input vectors generated randomly in a square region in the interval between -1 and +1. Select initial synaptic weights randomly in the same interval  (-1 and +1  ) and take the learning rate parameter α is equal to 0.1.\n",
    "\n",
    "\n",
    "Test the performance of the self organizing neurons using the following Input vectors: \\\n",
    "\n",
    "X1=[0.1  0.8]$^T$, \\\n",
    "X2=[0.5  -0.2]$^T$, \\\n",
    "X3=[-0.8  -0.9]$^T$, \\\n",
    "X4=[-0.0.6  0.9]$^T$."
   ]
  },
  {
   "cell_type": "code",
   "execution_count": 79,
   "metadata": {},
   "outputs": [],
   "source": [
    "#loading required packages\n",
    "import numpy as np\n",
    "import matplotlib.pyplot as plt"
   ]
  },
  {
   "cell_type": "markdown",
   "metadata": {},
   "source": [
    "### Euclidean Distance :"
   ]
  },
  {
   "cell_type": "code",
   "execution_count": 106,
   "metadata": {},
   "outputs": [],
   "source": [
    "def distance(x,w):\n",
    "    return np.sqrt(np.sum((x-w)**2))"
   ]
  },
  {
   "cell_type": "markdown",
   "metadata": {},
   "source": [
    "### Intializing X:\n",
    "1.X is 2-D. \\\n",
    "2.1500 input vector generated. \\\n",
    "3.interval between -1 and +1."
   ]
  },
  {
   "cell_type": "code",
   "execution_count": 107,
   "metadata": {},
   "outputs": [],
   "source": [
    "#generating values of x\n",
    "X=[]\n",
    "for i in range(1500):\n",
    "    x_i = np.random.random((2))*2-1         #range -1 to 1\n",
    "    X.append(x_i.T)"
   ]
  },
  {
   "cell_type": "markdown",
   "metadata": {},
   "source": [
    "### Initializing W(-1 to +1 ):"
   ]
  },
  {
   "cell_type": "code",
   "execution_count": 117,
   "metadata": {},
   "outputs": [
    {
     "data": {
      "text/plain": [
       "<matplotlib.collections.PathCollection at 0x7fc3f50cb040>"
      ]
     },
     "execution_count": 117,
     "metadata": {},
     "output_type": "execute_result"
    },
    {
     "data": {
      "image/png": "[encoded data removed]",
      "text/plain": [
       "<Figure size 432x288 with 1 Axes>"
      ]
     },
     "metadata": {
      "needs_background": "light"
     },
     "output_type": "display_data"
    }
   ],
   "source": [
    "#generating weight values for 100 neurons\n",
    "W=[]\n",
    "for i in range(100):\n",
    "    w_i = np.random.random((2))*2-1      #ranges -1 to 1\n",
    "    W.append(w_i.T)\n",
    "\n",
    "plt.scatter(np.array(W)[:,0],np.array(W)[:,1])"
   ]
  },
  {
   "cell_type": "code",
   "execution_count": 118,
   "metadata": {},
   "outputs": [
    {
     "name": "stdout",
     "output_type": "stream",
     "text": [
      "[array([-0.8894966 ,  0.14564967]), array([-0.50744305, -0.60236279]), array([-0.19044732,  0.45351672]), array([0.98338701, 0.01711666]), array([-0.73492905, -0.65053482]), array([-0.04340426,  0.55418056]), array([ 0.57299008, -0.14946118]), array([0.02428003, 0.60952017]), array([-0.88762746,  0.42404395]), array([-0.64455581,  0.35302472])]\n"
     ]
    }
   ],
   "source": [
    "print(W[:10])"
   ]
  },
  {
   "cell_type": "markdown",
   "metadata": {},
   "source": [
    "## function to Train Kohen network :\n",
    "\\begin{equation}\n",
    "j_x(p) = min_j ||X-W_jp||\n",
    "\\end{equation}\n",
    "\n",
    "Updating weight ->\n",
    "\\begin{equation}\n",
    "W_{ij}(p+1) = W_{ij} + \\Delta W_{ij} \\\\\n",
    "\\Delta W_{ij} = \\alpha(x_i-w_{ij}(p) ,\\ j \\in \\Lambda_p \\ else \\ 0\n",
    "\\end{equation}"
   ]
  },
  {
   "cell_type": "code",
   "execution_count": 197,
   "metadata": {},
   "outputs": [],
   "source": [
    "def trainKohenNetwork(X,W,epoch=100,alpha=0.1):\n",
    "    for i in range(epoch):\n",
    "        for x_i in X:\n",
    "            min_d=1e+20\n",
    "            pos  = -1\n",
    "            for j in range(len(W)):\n",
    "                \n",
    "                d = distance(x_i,W[j])\n",
    "                if d<min_d:\n",
    "                    min_d = d\n",
    "                    pos   = j\n",
    "            \n",
    "            \n",
    "            \n",
    "            W[pos] = W[pos] +(alpha*(X[pos]-W[pos]))\n",
    "            \n",
    "            \n",
    "        if i%5==0:\n",
    "            print(\"j ->\",pos,\"\\ndw->\",(alpha*(X[pos]-W[pos])))\n",
    "            print(\"----------------------------------------------\")\n",
    "            print(\"Epoch :\",i+1,end=\"\\n\\n\\n\")\n",
    "            \n",
    "\n",
    "    return W"
   ]
  },
  {
   "cell_type": "markdown",
   "metadata": {},
   "source": [
    "### Training Kohen Network"
   ]
  },
  {
   "cell_type": "code",
   "execution_count": 198,
   "metadata": {},
   "outputs": [
    {
     "name": "stdout",
     "output_type": "stream",
     "text": [
      "j -> 4 \n",
      "dw-> [0.02484313 0.00840641]\n",
      "----------------------------------------------\n",
      "Epoch : 1\n",
      "\n",
      "\n",
      "j -> 90 \n",
      "dw-> [1.03013477e-03 4.69593682e-05]\n",
      "----------------------------------------------\n",
      "Epoch : 6\n",
      "\n",
      "\n",
      "j -> 90 \n",
      "dw-> [7.39531679e-05 3.37120359e-06]\n",
      "----------------------------------------------\n",
      "Epoch : 11\n",
      "\n",
      "\n",
      "j -> 90 \n",
      "dw-> [5.30908304e-06 2.42018027e-07]\n",
      "----------------------------------------------\n",
      "Epoch : 16\n",
      "\n",
      "\n",
      "j -> 90 \n",
      "dw-> [3.81138003e-07 1.73744255e-08]\n",
      "----------------------------------------------\n",
      "Epoch : 21\n",
      "\n",
      "\n",
      "j -> 90 \n",
      "dw-> [2.73618206e-08 1.24730651e-09]\n",
      "----------------------------------------------\n",
      "Epoch : 26\n",
      "\n",
      "\n",
      "j -> 90 \n",
      "dw-> [1.96429958e-09 8.95438834e-11]\n",
      "----------------------------------------------\n",
      "Epoch : 31\n",
      "\n",
      "\n",
      "j -> 90 \n",
      "dw-> [1.41016665e-10 6.42833703e-12]\n",
      "----------------------------------------------\n",
      "Epoch : 36\n",
      "\n",
      "\n",
      "j -> 90 \n",
      "dw-> [1.01235575e-11 4.61487792e-13]\n",
      "----------------------------------------------\n",
      "Epoch : 41\n",
      "\n",
      "\n",
      "j -> 90 \n",
      "dw-> [7.26774196e-13 3.31290551e-14]\n",
      "----------------------------------------------\n",
      "Epoch : 46\n",
      "\n",
      "\n",
      "j -> 90 \n",
      "dw-> [5.21693799e-14 2.37865283e-15]\n",
      "----------------------------------------------\n",
      "Epoch : 51\n",
      "\n",
      "\n",
      "j -> 90 \n",
      "dw-> [3.75255382e-15 1.69309011e-16]\n",
      "----------------------------------------------\n",
      "Epoch : 56\n",
      "\n",
      "\n",
      "j -> 90 \n",
      "dw-> [2.55351296e-16 1.24900090e-17]\n",
      "----------------------------------------------\n",
      "Epoch : 61\n",
      "\n",
      "\n",
      "j -> 90 \n",
      "dw-> [4.44089210e-17 5.55111512e-18]\n",
      "----------------------------------------------\n",
      "Epoch : 66\n",
      "\n",
      "\n",
      "j -> 90 \n",
      "dw-> [4.44089210e-17 5.55111512e-18]\n",
      "----------------------------------------------\n",
      "Epoch : 71\n",
      "\n",
      "\n",
      "j -> 90 \n",
      "dw-> [4.44089210e-17 5.55111512e-18]\n",
      "----------------------------------------------\n",
      "Epoch : 76\n",
      "\n",
      "\n",
      "j -> 90 \n",
      "dw-> [4.44089210e-17 5.55111512e-18]\n",
      "----------------------------------------------\n",
      "Epoch : 81\n",
      "\n",
      "\n",
      "j -> 90 \n",
      "dw-> [4.44089210e-17 5.55111512e-18]\n",
      "----------------------------------------------\n",
      "Epoch : 86\n",
      "\n",
      "\n",
      "j -> 90 \n",
      "dw-> [4.44089210e-17 5.55111512e-18]\n",
      "----------------------------------------------\n",
      "Epoch : 91\n",
      "\n",
      "\n",
      "j -> 90 \n",
      "dw-> [4.44089210e-17 5.55111512e-18]\n",
      "----------------------------------------------\n",
      "Epoch : 96\n",
      "\n",
      "\n"
     ]
    }
   ],
   "source": [
    "w = trainKohenNetwork(X,W[:],epoch=100)"
   ]
  },
  {
   "cell_type": "markdown",
   "metadata": {},
   "source": [
    "## Testing Kohen Network :"
   ]
  },
  {
   "cell_type": "code",
   "execution_count": 200,
   "metadata": {},
   "outputs": [],
   "source": [
    "#Testing input vetor:\n",
    "x1=np.array([[0.1,0.8]]).T \n",
    "x2=np.array([[0.5,-0.2]]).T\n",
    "x3=np.array([[-0.8,-0.9]]).T\n",
    "x4=np.array([[-0.6,0.9]]).T  \n"
   ]
  },
  {
   "cell_type": "code",
   "execution_count": 207,
   "metadata": {},
   "outputs": [],
   "source": [
    "def predict(w,x):\n",
    "    act = np.sum(x.T*w,axis=1)[:]\n",
    "    m = max(act)\n",
    "    return np.where(act==m)[0][0]\n"
   ]
  },
  {
   "cell_type": "code",
   "execution_count": 208,
   "metadata": {},
   "outputs": [
    {
     "name": "stdout",
     "output_type": "stream",
     "text": [
      "Neuron no -> 31\n"
     ]
    }
   ],
   "source": [
    "print(\"Neuron no ->\",predict(w,x1))"
   ]
  },
  {
   "cell_type": "code",
   "execution_count": 209,
   "metadata": {},
   "outputs": [
    {
     "name": "stdout",
     "output_type": "stream",
     "text": [
      "Neuron no -> 92\n"
     ]
    }
   ],
   "source": [
    "print(\"Neuron no ->\",predict(w,x2))"
   ]
  },
  {
   "cell_type": "code",
   "execution_count": 210,
   "metadata": {},
   "outputs": [
    {
     "name": "stdout",
     "output_type": "stream",
     "text": [
      "Neuron no -> 36\n"
     ]
    }
   ],
   "source": [
    "print(\"Neuron no ->\",predict(w,x3))"
   ]
  },
  {
   "cell_type": "code",
   "execution_count": 211,
   "metadata": {},
   "outputs": [
    {
     "name": "stdout",
     "output_type": "stream",
     "text": [
      "Neuron no -> 11\n"
     ]
    }
   ],
   "source": [
    "print(\"Neuron no ->\",predict(w,x4))"
   ]
  },
  {
   "cell_type": "markdown",
   "metadata": {},
   "source": [
    "# Analysis :\n",
    "<ul>\n",
    "    <li>with decreasing value of $\\alpha$ , epoch to train increases</li>\n",
    "    <li>With testing data, neuron fire for weight learned from training.</li>\n",
    "    <li>Competative learning is used here to update weights.</li>\n",
    "    \n",
    "</ul>"
   ]
  },
  {
   "cell_type": "code",
   "execution_count": null,
   "metadata": {},
   "outputs": [],
   "source": []
  }
 ],
 "metadata": {
  "kernelspec": {
   "display_name": "Python 3",
   "language": "python",
   "name": "python3"
  },
  "language_info": {
   "codemirror_mode": {
    "name": "ipython",
    "version": 3
   },
   "file_extension": ".py",
   "mimetype": "text/x-python",
   "name": "python",
   "nbconvert_exporter": "python",
   "pygments_lexer": "ipython3",
   "version": "3.8.6"
  }
 },
 "nbformat": 4,
 "nbformat_minor": 4
}

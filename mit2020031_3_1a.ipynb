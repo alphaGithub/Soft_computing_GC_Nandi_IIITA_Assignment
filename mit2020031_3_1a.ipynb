{
 "cells": [
  {
   "cell_type": "markdown",
   "metadata": {},
   "source": [
    "## Question 1.a)\n",
    "Download the housing price data set of Windsor City of Canada ( provided on my website link). Design a housing price predictor taking only floor area (plot size), number of bedrooms, and number of bathrooms into considerations. Out of total 546 data , you may take 70% for designing the predictor and 30% for validating the design. The predictor design should be done using the following methods:\n",
    "\n",
    "<b>a) Normal equations  with  and without regularization and compare their performances in terms of % error in prediction. ( only allowed to use NumPy library of Python.no other functions/libraries are allowed )<b>\n"
   ]
  },
  {
   "cell_type": "code",
   "execution_count": 2,
   "metadata": {},
   "outputs": [],
   "source": [
    "#Loading numpy\n",
    "import numpy as np\n",
    "import matplotlib.pyplot as plt"
   ]
  },
  {
   "cell_type": "code",
   "execution_count": 3,
   "metadata": {},
   "outputs": [],
   "source": [
    "#Reading Data from Housing Price data set.csv\n",
    "read_data = np.genfromtxt(\"Housing Price data set.csv\",delimiter=',')\n",
    "data = np.array(read_data[1:,1:5],dtype=np.int)"
   ]
  },
  {
   "cell_type": "markdown",
   "metadata": {},
   "source": [
    "**Splitting data into x and y** \\\n",
    " y = Price as label \\\n",
    " x = (floor Area, number of bedrooms, number of bathrooms) i.e x1,x2,x3"
   ]
  },
  {
   "cell_type": "code",
   "execution_count": 4,
   "metadata": {},
   "outputs": [
    {
     "name": "stdout",
     "output_type": "stream",
     "text": [
      "Prices(top 5) :\n",
      " [[98500]\n",
      " [49000]\n",
      " [58000]\n",
      " [46500]\n",
      " [68500]]\n",
      "\n",
      "x1,x2,x3(top 5) :\n",
      " [[7700    3    2]\n",
      " [2610    3    1]\n",
      " [5900    4    2]\n",
      " [4500    2    1]\n",
      " [7000    3    1]]\n"
     ]
    }
   ],
   "source": [
    "np.random.shuffle(data)     # shuffling , splitting of train and validation to unbaised\n",
    "y = data[:,0:1]\n",
    "x = data[:,1:]\n",
    "print(\"Prices(top 5) :\\n\",y[:5])\n",
    "print(\"\\nx1,x2,x3(top 5) :\\n\",x[:5])"
   ]
  },
  {
   "cell_type": "markdown",
   "metadata": {},
   "source": [
    "**Preprocessing and splitting of data into training and validation** \\\n",
    "Preprocessing = adding column of 1 , i.e $x_0$=1 for every data of x\n"
   ]
  },
  {
   "cell_type": "code",
   "execution_count": 5,
   "metadata": {},
   "outputs": [
    {
     "name": "stdout",
     "output_type": "stream",
     "text": [
      "(546, 4) (382, 4) (164, 4)\n"
     ]
    }
   ],
   "source": [
    "#preprocessing\n",
    "m,n = x.shape\n",
    "ones = np.ones((m,n+1),dtype=np.int)\n",
    "ones[:,1:] = x         #broadcasting\n",
    "x = ones\n",
    "\n",
    "#splitting data into training(70%) and validation(30%) \n",
    "split = int(m*0.7)\n",
    "x_train = x[:split]\n",
    "y_train = y[:split]\n",
    "x_valid = x[split:]\n",
    "y_valid = y[split:]\n",
    "print(x.shape,x_train.shape,x_valid.shape)"
   ]
  },
  {
   "cell_type": "markdown",
   "metadata": {},
   "source": [
    "## implementation Normal Equation without  and with regularization\n",
    "normalEquation : without regularization\\\n",
    "normalEquationWithRegularization : with regularization.\n",
    "\n",
    "\n",
    "\n",
    "**without Regularization** \\\n",
    "\\begin{equation}\n",
    "w = (x^Tx)^{-1} x^Ty   \n",
    "\\end{equation}\n",
    "\n",
    "**with Regularization** \\\n",
    "\\begin{equation}\n",
    "w = (x^Tx + \\lambda I)^{-1} x^Ty\n",
    "\\end{equation}\n"
   ]
  },
  {
   "cell_type": "code",
   "execution_count": 6,
   "metadata": {},
   "outputs": [],
   "source": [
    "def normalEquation(x,y):   #without regularization \n",
    "    m,n = x.shape\n",
    "    y = y.reshape(m,1)\n",
    "                                            # w = (x'x)^-1 * x,y\n",
    "    p = np.matmul(x.T,x)\n",
    "    p = np.linalg.inv(p)\n",
    "    w = np.matmul(p,np.matmul(x.T,y))\n",
    "    return w\n",
    "\n",
    "def normalEquationWithRegularization(x,y,lembda=0.1): #with regularization\n",
    "    m,n = x.shape\n",
    "    y = y.reshape(m,1)\n",
    "    I=[]\n",
    "    I=[]\n",
    "    for i in range(n):\n",
    "        I.append([0]*n)\n",
    "        if(i!=0):\n",
    "            I[i][i]=1\n",
    "    I = np.array(I)\n",
    "    I = I*lembda\n",
    "                                        # w = (x'x + lemdaI)-1 * x,y\n",
    "    p = np.matmul(x.T,x)+ I\n",
    "    p = np.linalg.inv(p)\n",
    "    w = np.matmul(p,np.matmul(x.T,y))\n",
    "    return w"
   ]
  },
  {
   "cell_type": "markdown",
   "metadata": {},
   "source": [
    "### Hypothesis and cost function \n",
    "\\begin{equation}\n",
    "Hypothesis :  h_w(x) = w_0 + w_1x_1 + w_2x_2 + w_3x_3  \\\n",
    "\\end{equation}\n",
    "\n",
    "\\begin{equation}\n",
    "Cost function(without regularization) : J(w) = \\frac{1}{2m} \\sum_{i=1}^{i=m} (h_w(x)-y^{(i)})^2\n",
    "\\end{equation}\n",
    "\n",
    "\\begin{equation}\n",
    "Cost function(with regularization) : J(w) = \\frac{1}{2m} [\\sum_{i=1}^{i=m} (h_w(x)-y^{(i)})^2  + \\lambda \\sum_{j=1}^{j=n} w_j^2]\n",
    "\\end{equation}\n",
    "\n"
   ]
  },
  {
   "cell_type": "code",
   "execution_count": 7,
   "metadata": {},
   "outputs": [],
   "source": [
    "def hypothesis(x,w):\n",
    "    return np.dot(x,w)\n",
    "\n",
    "def costFunction(x,y,w):\n",
    "    m,n = x.shape\n",
    "    return np.sum((hypothesis(x,w)-y)**2)/(2*m)\n",
    "\n",
    "def costFunctionWithRegularization(x,y,w,lembda=0.1):\n",
    "    m,n = x.shape\n",
    "    return (np.sum((hypothesis(x,w)-y)**2) + (np.sum(w**2)*lembda))/(2*m)"
   ]
  },
  {
   "cell_type": "code",
   "execution_count": 8,
   "metadata": {},
   "outputs": [
    {
     "name": "stdout",
     "output_type": "stream",
     "text": [
      "vector w1 \n",
      " [[-4.94827841e+03]\n",
      " [ 5.70583249e+00]\n",
      " [ 5.90369318e+03]\n",
      " [ 2.00651027e+04]]\n",
      "\n",
      "Loss using w1(without regularization) : 169596848.48041108\n",
      "vector w2 :\n",
      " [[-4.93042130e+03]\n",
      " [ 5.70688669e+00]\n",
      " [ 5.90663477e+03]\n",
      " [ 2.00404617e+04]]\n",
      "\n",
      "lembda= 0.1 Loss using w2(with regularization)  214780097.66323146\n"
     ]
    }
   ],
   "source": [
    "w1 =normalEquation(x_train,y_train)\n",
    "print(\"vector w1 \\n\",w1,end=\"\\n\\n\")\n",
    "print(\"Loss using w1(without regularization) :\",costFunction(x_train,y_train,w1))\n",
    "\n",
    "lembda = 0.1\n",
    "w2 =normalEquationWithRegularization(x_train,y_train,lembda)\n",
    "print(\"vector w2 :\\n\",w2,end=\"\\n\\n\")\n",
    "print(\"lembda=\",lembda,\"Loss using w2(with regularization) \",costFunctionWithRegularization(x_valid,y_valid,w2,lembda))\n",
    "\n",
    "\n"
   ]
  },
  {
   "cell_type": "code",
   "execution_count": 9,
   "metadata": {},
   "outputs": [
    {
     "name": "stdout",
     "output_type": "stream",
     "text": [
      "Predicted :\n",
      " [[87128.00159105]\n",
      " [55651.23385922]\n",
      " [58618.26675519]\n",
      " [58587.8941476 ]\n",
      " [70486.39833906]]\n",
      "Actual :\n",
      " [[108000]\n",
      " [ 39000]\n",
      " [ 70000]\n",
      " [ 47000]\n",
      " [ 72000]]\n"
     ]
    }
   ],
   "source": [
    "#prediction without regularization\n",
    "print(\"Predicted :\\n\",hypothesis(x_valid,w1)[:5])\n",
    "print(\"Actual :\\n\",y_valid[:5])"
   ]
  },
  {
   "cell_type": "code",
   "execution_count": 10,
   "metadata": {},
   "outputs": [
    {
     "name": "stdout",
     "output_type": "stream",
     "text": [
      "Predicted :\n",
      " [[87111.7265794 ]\n",
      " [55657.49148894]\n",
      " [58625.0725674 ]\n",
      " [58596.54518482]\n",
      " [70495.39688123]]\n",
      "Actual :\n",
      " [[108000]\n",
      " [ 39000]\n",
      " [ 70000]\n",
      " [ 47000]\n",
      " [ 72000]]\n"
     ]
    }
   ],
   "source": [
    "#prediction with regularization\n",
    "print(\"Predicted :\\n\",hypothesis(x_valid,w2)[:5])\n",
    "print(\"Actual :\\n\",y_valid[:5])"
   ]
  },
  {
   "cell_type": "markdown",
   "metadata": {},
   "source": [
    "### Plotting $\\lambda$ vs Loss , $\\lambda$ = 1 , 0.5 , 0.3 , 0.1 , 0.01 , 0.001 , 0.0001 , 0.00001 , 0"
   ]
  },
  {
   "cell_type": "code",
   "execution_count": 11,
   "metadata": {},
   "outputs": [
    {
     "name": "stdout",
     "output_type": "stream",
     "text": [
      "[216044535.99889183, 215342070.25685832, 215061083.96004486, 214780097.66323146, 214653653.82966545, 214641009.44630882, 214639745.00797313, 214639618.56413957, 214639604.51482475]\n"
     ]
    },
    {
     "data": {
      "image/png": "[encoded data removed]",
      "text/plain": [
       "<Figure size 432x288 with 1 Axes>"
      ]
     },
     "metadata": {
      "needs_background": "light"
     },
     "output_type": "display_data"
    }
   ],
   "source": [
    "f=plt.figure()\n",
    "plt.ylabel(\"Loss\")\n",
    "plt.xlabel(\"lembda\")\n",
    "plt.title(\"Loss vs Lembda\")\n",
    "\n",
    "\n",
    "lemda_=[1,0.5,0.3,0.1,0.01,0.001,0.0001,0.00001,0]\n",
    "loss_=[costFunctionWithRegularization(x_valid,y_valid,w2,l) for l in lemda_]\n",
    "print(loss_)\n",
    "plt.plot(lemda_,loss_)\n",
    "plt.show()"
   ]
  },
  {
   "cell_type": "markdown",
   "metadata": {},
   "source": [
    "# Comparing  performances in terms of % error in prediction\n",
    "**error1 : error in prediction (Predictor:without regularization)\\\n",
    "error2 : error in prediction (Predictor:with regularization)**\n",
    "\\begin{equation}\n",
    "    \\frac{error1-error2}{error1} \\times 100\n",
    "\\end{equation}"
   ]
  },
  {
   "cell_type": "code",
   "execution_count": 12,
   "metadata": {},
   "outputs": [
    {
     "name": "stdout",
     "output_type": "stream",
     "text": [
      "Error1 : Error without Regularization\n",
      "Error2 : Error with Regularization\n",
      "\n",
      "At lembda =  0.1\n",
      "Error1 > than Error2 : 0.063 %\n",
      "\n",
      "At lembda =  0.01\n",
      "Error1 > than Error2 : 0.004 %\n",
      "\n",
      "At lembda =  0.001\n",
      "Error1 < Error2 by 0.002 %\n",
      "\n",
      "At lembda =  0.0001\n",
      "Error1 < Error2 by 0.003 %\n",
      "\n",
      "At lembda =  0\n",
      "Error1 < Error2 by 0.003 %\n",
      "\n"
     ]
    }
   ],
   "source": [
    "def percentageError(err1,err2):\n",
    "    p_err =  ((err1-err2)*100)/err1\n",
    "    p_err = np.round(p_err,3)\n",
    "    if p_err<0:\n",
    "        print(\"Error1 < Error2 by\",-p_err,\"%\\n\")\n",
    "    elif p_err==0:\n",
    "        print(\"Error1 == Error\\n\")\n",
    "    else:\n",
    "        print(\"Error1 > than Error2 :\",p_err,\"%\\n\")\n",
    "\n",
    "print(\"Error1 : Error without Regularization\")\n",
    "print(\"Error2 : Error with Regularization\\n\")\n",
    "\n",
    "\n",
    "print(\"At lembda = \",0.1)\n",
    "err_w1 = costFunction(x_valid,y_valid,w1)\n",
    "err_w2 = costFunctionWithRegularization(x_valid,y_valid,w2,lembda=0.1)\n",
    "percentageError(err_w2,err_w1)\n",
    "\n",
    "print(\"At lembda = \",0.01)\n",
    "err_w2 = costFunctionWithRegularization(x_valid,y_valid,w2,lembda=0.01)\n",
    "percentageError(err_w2,err_w1)\n",
    "\n",
    "print(\"At lembda = \",0.001)\n",
    "err_w2 = costFunctionWithRegularization(x_valid,y_valid,w2,lembda=0.001)\n",
    "percentageError(err_w2,err_w1)\n",
    "\n",
    "print(\"At lembda = \",0.0001)\n",
    "err_w2 = costFunctionWithRegularization(x_valid,y_valid,w2,lembda=0.0001)\n",
    "percentageError(err_w2,err_w1)\n",
    "\n",
    "print(\"At lembda = \",0)\n",
    "err_w2 = costFunctionWithRegularization(x_valid,y_valid,w2,lembda=0)\n",
    "percentageError(err_w2,err_w1)\n"
   ]
  },
  {
   "cell_type": "markdown",
   "metadata": {},
   "source": [
    "# Testing with new hypothesis function"
   ]
  },
  {
   "cell_type": "markdown",
   "metadata": {},
   "source": [
    "### Hypothesis and cost function \n",
    "\\begin{equation}\n",
    "Hypothesis :  h_w(x) = w_0 + w_1x_1 + w_2x_2 + w_3x_2^2 + w_4x_2^3 + w_5x_3 + w_6x_3^2 \\\n",
    "\\end{equation}\n",
    "\n",
    "\\begin{equation}\n",
    "Cost function(without regularization) : J(w) = \\frac{1}{2m} \\sum_{i=1}^{i=m} (h_w(x)-y^{(i)})^2\n",
    "\\end{equation}\n",
    "\n",
    "\\begin{equation}\n",
    "Cost function(with regularization) : J(w) = \\frac{1}{2m} [\\sum_{i=1}^{i=m} (h_w(x)-y^{(i)})^2  + \\lambda \\sum_{j=1}^{j=n} w_j^2]\n",
    "\\end{equation}\n",
    "\n"
   ]
  },
  {
   "cell_type": "code",
   "execution_count": 13,
   "metadata": {},
   "outputs": [
    {
     "name": "stdout",
     "output_type": "stream",
     "text": [
      "[[   1 7700    3    2]\n",
      " [   1 2610    3    1]\n",
      " [   1 5900    4    2]\n",
      " [   1 4500    2    1]\n",
      " [   1 7000    3    1]]\n",
      "[[1.00e+00 7.70e+03 3.00e+00 9.00e+00 2.70e+01 2.00e+00 4.00e+00]\n",
      " [1.00e+00 2.61e+03 3.00e+00 9.00e+00 2.70e+01 1.00e+00 1.00e+00]\n",
      " [1.00e+00 5.90e+03 4.00e+00 1.60e+01 6.40e+01 2.00e+00 4.00e+00]\n",
      " [1.00e+00 4.50e+03 2.00e+00 4.00e+00 8.00e+00 1.00e+00 1.00e+00]\n",
      " [1.00e+00 7.00e+03 3.00e+00 9.00e+00 2.70e+01 1.00e+00 1.00e+00]]\n"
     ]
    }
   ],
   "source": [
    "#changing dataset according to new hypothesis\n",
    "m,n = x_train.shape\n",
    "x_train_new = np.ones((m,n+3))\n",
    "x_train_new[:,0:3] = x_train[:,0:3]                     # w0 + w1x1 + w2x2\n",
    "x_train_new[:,3:4] = x_train[:,2:3]**2                  # w0 + w1x1 + w2x2 + w3(x2)^2\n",
    "x_train_new[:,4:5] = x_train_new[:,3:4]*x_train[:,2:3]  # w0 + w1x1 + w2x2 + w3(x2)^2 + w4(x2)^3 \n",
    "x_train_new[:,5:6] = x_train[:,3:4]                     # w0 + w1x1 + w2x2 + w3(x2)^2 + w4(x2)^3 + w5x3\n",
    "x_train_new[:,6:] =  x_train[:,3:4]**2                  # w0 + w1x1 + w2x2 + w3(x2)^2 + w4(x2)^3 + w5x3 + w5(x3)^2\n",
    "y_train_new = y_train\n",
    "\n",
    "m,n = x_valid.shape\n",
    "x_valid_new = np.ones((m,n+3))\n",
    "x_valid_new[:,0:3] = x_valid[:,0:3]                     \n",
    "x_valid_new[:,3:4] = x_valid[:,2:3]**2              \n",
    "x_valid_new[:,4:5] = x_valid_new[:,3:4]*x_valid[:,2:3] \n",
    "x_valid_new[:,5:6] = x_valid[:,3:4]                     \n",
    "x_valid_new[:,6:] =  x_valid[:,3:4]**2 \n",
    "y_valid_new = y_valid\n",
    "print(x_train[:5])\n",
    "print(x_train_new[:5])"
   ]
  },
  {
   "cell_type": "code",
   "execution_count": 14,
   "metadata": {},
   "outputs": [
    {
     "name": "stdout",
     "output_type": "stream",
     "text": [
      "vector w1_new \n",
      " [[-6.81803859e+04]\n",
      " [ 5.57131312e+00]\n",
      " [ 5.27768368e+04]\n",
      " [-1.07348850e+04]\n",
      " [ 6.39992728e+02]\n",
      " [ 2.71685381e+04]\n",
      " [-2.13323475e+03]]\n",
      "\n",
      "Loss using w1_new(without regularization) : 214433987.46726775\n",
      "vector w2_new:\n",
      " [[-5.38569983e+04]\n",
      " [ 5.57224585e+00]\n",
      " [ 3.98989729e+04]\n",
      " [-6.76061099e+03]\n",
      " [ 2.57121408e+02]\n",
      " [ 2.54163071e+04]\n",
      " [-1.63671498e+03]]\n",
      "\n",
      "lembda= 0.1 Loss using w2_new(with regularization)  215341659.69940767\n"
     ]
    },
    {
     "data": {
      "image/png": "[encoded data removed]",
      "text/plain": [
       "<Figure size 432x288 with 1 Axes>"
      ]
     },
     "metadata": {
      "needs_background": "light"
     },
     "output_type": "display_data"
    }
   ],
   "source": [
    "#generating output for hypothes\n",
    "w1_new =normalEquation(x_train_new,y_train_new)\n",
    "print(\"vector w1_new \\n\",w1_new,end=\"\\n\\n\")\n",
    "print(\"Loss using w1_new(without regularization) :\",costFunction(x_valid_new,y_valid,w1_new))\n",
    "\n",
    "lembda = 0.1\n",
    "w2_new =normalEquationWithRegularization(x_train_new,y_train_new,lembda)\n",
    "print(\"vector w2_new:\\n\",w2_new,end=\"\\n\\n\")\n",
    "print(\"lembda=\",lembda,\"Loss using w2_new(with regularization) \",costFunctionWithRegularization(x_valid_new,y_valid,w2_new,lembda))\n",
    "\n",
    "f=plt.figure()\n",
    "plt.ylabel(\"Loss\")\n",
    "plt.xlabel(\"lembda\")\n",
    "plt.title(\"Loss vs Lembda\")\n",
    "#[plt.scatter(l,costFunctionWithRegularization(x_valid,y_valid,w2,l),color=\"red\") for l in ld]\n",
    "#plt.show()\n",
    "lemda_=[1,0.5,0.3,0.1,0.01,0.001,0.0001,0.00001,0]\n",
    "loss_=[costFunctionWithRegularization(x_valid_new,y_valid_new,w2_new,l) for l in lemda_]\n",
    "plt.plot(lemda_,loss_)\n",
    "plt.show()\n",
    "\n"
   ]
  },
  {
   "cell_type": "markdown",
   "metadata": {},
   "source": [
    "# Comparing performance for new Hypothesis\n",
    "**error1 : error in prediction (Predictor:without regularization)\\\n",
    "error2 : error in prediction (Predictor:with regularization)**\n",
    "\\begin{equation}\n",
    "    \\frac{error1-error2}{error1} \\times 100\n",
    "\\end{equation}"
   ]
  },
  {
   "cell_type": "code",
   "execution_count": null,
   "metadata": {},
   "outputs": [],
   "source": [
    "def percentageError(err1,err2):\n",
    "    p_err =  ((err1-err2)*100)/err1\n",
    "    p_err = np.round(p_err,3)\n",
    "    if p_err<0:\n",
    "        print(\"Error1 < Error2 by\",-p_err,3,\"%\\n\")\n",
    "    elif p_err==0:\n",
    "        print(\"Error1 == Error\\n\")\n",
    "    else:\n",
    "        print(\"Error1 > than Error2 :\",p_err,\"%\\n\")\n",
    "\n",
    "print(\"Error1 : Error without Regularization\")\n",
    "print(\"Error2 : Error with Regularization\\n\")\n",
    "\n",
    "\n",
    "print(\"At lembda = \",0.1)\n",
    "err_w1 = costFunction(x_valid_new,y_valid_new,w1_new)\n",
    "err_w2 = costFunctionWithRegularization(x_valid_new,y_valid,w2_new,lembda=0.1)\n",
    "percentageError(err_w2,err_w1)\n",
    "\n",
    "print(\"At lembda = \",0.01)\n",
    "err_w2 = costFunctionWithRegularization(x_valid_new,y_valid,w2_new,lembda=0.01)\n",
    "percentageError(err_w2,err_w1)\n",
    "\n",
    "print(\"At lembda = \",0.001)\n",
    "err_w2 = costFunctionWithRegularization(x_valid_new,y_valid,w2_new,lembda=0.001)\n",
    "percentageError(err_w2,err_w1)\n",
    "\n",
    "print(\"At lembda = \",0.0001)\n",
    "err_w2 = costFunctionWithRegularization(x_valid_new,y_valid,w2_new,lembda=0.0001)\n",
    "percentageError(err_w2,err_w1)\n"
   ]
  },
  {
   "cell_type": "code",
   "execution_count": null,
   "metadata": {},
   "outputs": [],
   "source": []
  },
  {
   "cell_type": "markdown",
   "metadata": {},
   "source": [
    "## Analysis :\n",
    "<ul>\n",
    "    <li>Percentage Error without Regularization > Error with Regularization.</li>\n",
    "    <li>decreasing $\\lambda$ decreases the difference between error in prediction decreases.</li>\n",
    "    <li>At $\\lambda$ = 0 Errors with or without regularization is same.</li>\n",
    "    <li>With Regularization , while $\\lambda$ increases loss/error also increasess(from plot).</li>\n",
    "</ul>"
   ]
  },
  {
   "cell_type": "code",
   "execution_count": null,
   "metadata": {},
   "outputs": [],
   "source": []
  }
 ],
 "metadata": {
  "kernelspec": {
   "display_name": "Python 3",
   "language": "python",
   "name": "python3"
  },
  "language_info": {
   "codemirror_mode": {
    "name": "ipython",
    "version": 3
   },
   "file_extension": ".py",
   "mimetype": "text/x-python",
   "name": "python",
   "nbconvert_exporter": "python",
   "pygments_lexer": "ipython3",
   "version": "3.8.10"
  }
 },
 "nbformat": 4,
 "nbformat_minor": 4
}
